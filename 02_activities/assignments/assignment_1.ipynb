{
  "cells": [
    {
      "cell_type": "markdown",
      "id": "ba8ab56f",
      "metadata": {
        "id": "ba8ab56f"
      },
      "source": [
        "# Advanced Image Classification with ImageNet"
      ]
    },
    {
      "cell_type": "markdown",
      "id": "7c630244b8fe2847",
      "metadata": {
        "collapsed": false,
        "id": "7c630244b8fe2847"
      },
      "source": [
        "In this assignment, you will be asked to develop a convolutional neural network (CNN) to classify images from the CIFAR-100 dataset. At each step, you'll be guided through the process of developing a model architecture to solve a problem. Your goal is to create a CNN that attains at least 55% accuracy on the validation set.\n",
        "\n",
        "### The CIFAR-100 Dataset\n",
        "\n",
        "The [CIFAR-100 dataset](https://www.cs.toronto.edu/~kriz/cifar.html) consists of 60000 32x32 colour images in 100 classes, with 600 images per class. There are 50000 training images and 10000 test images. The dataset is divided into five training batches and one test batch, each with 10000 images. The test batch contains exactly 1000 randomly-selected images from each class. The training batches contain the remaining images in random order, but some training batches may contain more images from one class than another. Between them, the training batches contain exactly 500 images from each class.\n",
        "\n",
        "### Tools\n",
        "\n",
        "You will use Keras with TensorFlow to develop your CNN. For this assignment, it's strongly recommended that you use a GPU to accelerate your training, or else you might find it difficult to train your network in a reasonable amount of time. If you have a computer with a GPU that you wish to use, you can follow the [TensorFlow instructions](https://www.tensorflow.org/install/) for installing TensorFlow with GPU support. Otherwise, you can use [Google Colab](https://colab.research.google.com/) to complete this assignment. Colab provides free access to GPU-enabled machines. If you run into any issues, please contact us as soon as possible so that we can help you resolve them."
      ]
    },
    {
      "cell_type": "markdown",
      "id": "fab62988ece1528d",
      "metadata": {
        "collapsed": false,
        "id": "fab62988ece1528d"
      },
      "source": [
        "## Task 1: Data Exploration and Preprocessing (Complete or Incomplete)\n",
        "### 1a: Load and Explore the Dataset\n",
        "- Use the code below to download the dataset.\n",
        "- Explore the dataset: examine the shape of the training and test sets, the dimensions of the images, and the number of classes. Show a few examples from the training set."
      ]
    },
    {
      "cell_type": "code",
      "execution_count": 1,
      "id": "8820fcdc5ae52ae2",
      "metadata": {
        "ExecuteTime": {
          "start_time": "2024-01-26T17:04:08.432758Z"
        },
        "id": "8820fcdc5ae52ae2",
        "is_executing": true
      },
      "outputs": [],
      "source": [
        "from keras.datasets import cifar100\n",
        "\n",
        "# Load the CIFAR-100 dataset\n",
        "(x_train, y_train), (x_test, y_test) = cifar100.load_data(label_mode='fine')"
      ]
    },
    {
      "cell_type": "code",
      "execution_count": 2,
      "id": "a386b4072078138f",
      "metadata": {
        "id": "a386b4072078138f"
      },
      "outputs": [],
      "source": [
        "class_names = [\n",
        "    \"apple\", \"aquarium_fish\", \"baby\", \"bear\", \"beaver\", \"bed\", \"bee\", \"beetle\", \"bicycle\", \"bottle\",\n",
        "    \"bowl\", \"boy\", \"bridge\", \"bus\", \"butterfly\", \"camel\", \"can\", \"castle\", \"caterpillar\", \"cattle\",\n",
        "    \"chair\", \"chimpanzee\", \"clock\", \"cloud\", \"cockroach\", \"couch\", \"crab\", \"crocodile\", \"cup\", \"dinosaur\",\n",
        "    \"dolphin\", \"elephant\", \"flatfish\", \"forest\", \"fox\", \"girl\", \"hamster\", \"house\", \"kangaroo\", \"keyboard\",\n",
        "    \"lamp\", \"lawn_mower\", \"leopard\", \"lion\", \"lizard\", \"lobster\", \"man\", \"maple_tree\", \"motorcycle\", \"mountain\",\n",
        "    \"mouse\", \"mushroom\", \"oak_tree\", \"orange\", \"orchid\", \"otter\", \"palm_tree\", \"pear\", \"pickup_truck\", \"pine_tree\",\n",
        "    \"plain\", \"plate\", \"poppy\", \"porcupine\", \"possum\", \"rabbit\", \"raccoon\", \"ray\", \"road\", \"rocket\",\n",
        "    \"rose\", \"sea\", \"seal\", \"shark\", \"shrew\", \"skunk\", \"skyscraper\", \"snail\", \"snake\", \"spider\",\n",
        "    \"squirrel\", \"streetcar\", \"sunflower\", \"sweet_pepper\", \"table\", \"tank\", \"telephone\", \"television\", \"tiger\", \"tractor\",\n",
        "    \"train\", \"trout\", \"tulip\", \"turtle\", \"wardrobe\", \"whale\", \"willow_tree\", \"wolf\", \"woman\", \"worm\"\n",
        "]"
      ]
    },
    {
      "cell_type": "code",
      "execution_count": 3,
      "id": "36ca8354",
      "metadata": {
        "colab": {
          "base_uri": "https://localhost:8080/"
        },
        "id": "36ca8354",
        "outputId": "940a9277-3874-48c7-bf98-24c6f92eaf61"
      },
      "outputs": [
        {
          "name": "stdout",
          "output_type": "stream",
          "text": [
            "Shape of Training Sets\n",
            "x_train = (50000, 32, 32, 3)\n",
            "y_train = (50000, 1)\n",
            " \n",
            "Shape of Test Sets\n",
            "x_test = (10000, 32, 32, 3)\n",
            "y_test = (10000, 1)\n",
            " \n",
            "Dimensions of the Images\n",
            "32 x 32\n",
            " \n",
            "Number of Classes\n",
            "100\n"
          ]
        }
      ],
      "source": [
        "print('Shape of Training Sets')\n",
        "print('x_train =', x_train.shape)\n",
        "print('y_train =', y_train.shape)\n",
        "\n",
        "print(' ')\n",
        "print('Shape of Test Sets')\n",
        "print('x_test =', x_test.shape)\n",
        "print('y_test =', y_test.shape)\n",
        "\n",
        "print(' ')\n",
        "print('Dimensions of the Images')\n",
        "print(x_test.shape[1], 'x', x_test.shape[2])\n",
        "\n",
        "print(' ')\n",
        "print('Number of Classes')\n",
        "print(len(class_names))\n",
        "\n"
      ]
    },
    {
      "cell_type": "code",
      "execution_count": 4,
      "id": "bFmvJ1iajlSP",
      "metadata": {
        "colab": {
          "base_uri": "https://localhost:8080/",
          "height": 196
        },
        "id": "bFmvJ1iajlSP",
        "outputId": "fe21a780-01ce-44d1-c333-ac743b3bc4e0"
      },
      "outputs": [
        {
          "data": {
            "image/png": "[encoded data removed]",
            "text/plain": [
              "<Figure size 600x600 with 3 Axes>"
            ]
          },
          "metadata": {},
          "output_type": "display_data"
        }
      ],
      "source": [
        "import numpy as np\n",
        "import matplotlib.pyplot as plt\n",
        "\n",
        "random_indices = np.random.choice(x_train.shape[0], 3, replace=False)\n",
        "\n",
        "fig, axes = plt.subplots(1, 3, figsize=(6, 6))\n",
        "\n",
        "for i, ax in enumerate(axes.flat):\n",
        "    ax.imshow(x_train[i], interpolation='nearest')\n",
        "    ax.set_title(f\"Label: {class_names[y_train[i][0]]}\")\n",
        "\n",
        "    # Removing axis labels\n",
        "    ax.set_xticks([])\n",
        "    ax.set_yticks([])\n",
        "\n",
        "plt.show()"
      ]
    },
    {
      "cell_type": "markdown",
      "id": "ad49291da3a819ea",
      "metadata": {
        "collapsed": false,
        "id": "ad49291da3a819ea"
      },
      "source": [
        "### 1b: Data Preprocessing\n",
        "- With the data downloaded, it's time to preprocess it. Start by normalizing the images so that they all have pixel values in the range [0, 1].\n",
        "- Next, convert the labels to one-hot encoded vectors.\n",
        "- Finally, split the training set into training and validation sets. Use 80% of the training set for training and the remaining 20% for validation."
      ]
    },
    {
      "cell_type": "code",
      "execution_count": 5,
      "id": "b18c10172fa72d0c",
      "metadata": {
        "id": "b18c10172fa72d0c"
      },
      "outputs": [],
      "source": [
        "x_train = x_train.astype('float32') / 255.0\n",
        "x_test = x_test.astype('float32') / 255.0"
      ]
    },
    {
      "cell_type": "code",
      "execution_count": 6,
      "id": "z5U2lrKBv0Ti",
      "metadata": {
        "id": "z5U2lrKBv0Ti"
      },
      "outputs": [],
      "source": [
        "from tensorflow.keras.utils import to_categorical\n",
        "\n",
        "y_train = to_categorical(y_train, 100)\n",
        "y_test = to_categorical(y_test, 100)"
      ]
    },
    {
      "cell_type": "code",
      "execution_count": 7,
      "id": "EyHDOldgvz4r",
      "metadata": {
        "id": "EyHDOldgvz4r"
      },
      "outputs": [],
      "source": [
        "from sklearn.model_selection import train_test_split\n",
        "x_train, x_val, y_train, y_val = train_test_split(x_train, y_train, test_size=0.2, random_state=42)\n"
      ]
    },
    {
      "cell_type": "markdown",
      "id": "5993757f08c89db7",
      "metadata": {
        "collapsed": false,
        "id": "5993757f08c89db7"
      },
      "source": [
        "## Task 2: Model Development (Complete or Incomplete)\n",
        "### Task 2a: Create a Baseline CNN Model\n",
        "- Design a CNN architecture. Your architecture should use convolutional layers, max pooling layers, and dense layers. You can use any number of layers, and you can experiment with different numbers of filters, filter sizes, strides, padding, etc. The design doesn't need to be perfect, but it should be unique to you.\n",
        "- Print out the model summary."
      ]
    },
    {
      "cell_type": "code",
      "execution_count": 8,
      "id": "c9edafdaf887b8d5",
      "metadata": {
        "colab": {
          "base_uri": "https://localhost:8080/",
          "height": 440
        },
        "id": "c9edafdaf887b8d5",
        "outputId": "7e12d1d9-be75-4f3b-c018-03bc929a27d2"
      },
      "outputs": [
        {
          "name": "stdout",
          "output_type": "stream",
          "text": [
            "Model: \"sequential\"\n",
            "_________________________________________________________________\n",
            " Layer (type)                Output Shape              Param #   \n",
            "=================================================================\n",
            " conv2d (Conv2D)             (None, 30, 30, 32)        896       \n",
            "                                                                 \n",
            " max_pooling2d (MaxPooling2D  (None, 15, 15, 32)       0         \n",
            " )                                                               \n",
            "                                                                 \n",
            " conv2d_1 (Conv2D)           (None, 13, 13, 64)        18496     \n",
            "                                                                 \n",
            " max_pooling2d_1 (MaxPooling  (None, 6, 6, 64)         0         \n",
            " 2D)                                                             \n",
            "                                                                 \n",
            " flatten (Flatten)           (None, 2304)              0         \n",
            "                                                                 \n",
            " dense (Dense)               (None, 32)                73760     \n",
            "                                                                 \n",
            " dense_1 (Dense)             (None, 100)               3300      \n",
            "                                                                 \n",
            "=================================================================\n",
            "Total params: 96,452\n",
            "Trainable params: 96,452\n",
            "Non-trainable params: 0\n",
            "_________________________________________________________________\n"
          ]
        }
      ],
      "source": [
        "from tensorflow.keras import models, layers\n",
        "\n",
        "model = models.Sequential()\n",
        "\n",
        "model.add(layers.Conv2D(32, (3, 3), activation='relu', input_shape=(32, 32, 3)))\n",
        "model.add(layers.MaxPooling2D((2, 2)))\n",
        "model.add(layers.Conv2D(64, (3, 3), activation='relu',))\n",
        "model.add(layers.MaxPooling2D((2, 2)))\n",
        "model.add(layers.Flatten())\n",
        "model.add(layers.Dense(32, activation='relu'))\n",
        "model.add(layers.Dense(100, activation='softmax'))\n",
        "\n",
        "model.summary()"
      ]
    },
    {
      "cell_type": "markdown",
      "id": "546324c007c73db5",
      "metadata": {
        "collapsed": false,
        "id": "546324c007c73db5"
      },
      "source": [
        "### Task 2b: Compile the model\n",
        "\n",
        "- Select an appropriate loss function and optimizer for your model. These can be ones we have looked at already, or they can be different.\n",
        "- Briefly explain your choices (one or two sentences each).\n",
        "- <b>Loss function:</b> ______\n",
        "- <b>Optimizer:</b> ______"
      ]
    },
    {
      "cell_type": "code",
      "execution_count": 9,
      "id": "ab39f4ba69d684e9",
      "metadata": {
        "id": "ab39f4ba69d684e9"
      },
      "outputs": [],
      "source": [
        "model.compile(\n",
        "    loss='categorical_crossentropy',\n",
        "    optimizer='Adam',\n",
        "    metrics=['accuracy']\n",
        ")\n",
        "\n",
        "# I picked categorical crossentropy as my loss function as it is commonly used for multi-class classification problems and it's designed to measure\n",
        "# the difference between our predicted class probbalities and our one-hot encoded labels.\n",
        "# For the optimizer, I picked Adam as it converges faster and is noramlly used for image classifications."
      ]
    },
    {
      "cell_type": "markdown",
      "id": "653fba928413b9f6",
      "metadata": {
        "collapsed": false,
        "id": "653fba928413b9f6"
      },
      "source": [
        "## Task 3: Model Training and Evaluation (Complete or Incomplete)\n",
        "### Task 3a: Train the Model\n",
        "\n",
        "- Train your model for an appropriate number of epochs. Explain your choice of the number of epochs used - you can change this number before submitting your assignment.\n",
        "- Use a batch size of 32.\n",
        "- Use the validation set for validation."
      ]
    },
    {
      "cell_type": "code",
      "execution_count": null,
      "id": "9de74f274ad08546",
      "metadata": {
        "colab": {
          "base_uri": "https://localhost:8080/"
        },
        "id": "9de74f274ad08546",
        "outputId": "16592e7f-c408-491f-824b-06cf14d3652e"
      },
      "outputs": [
        {
          "name": "stdout",
          "output_type": "stream",
          "text": [
            "Epoch 1/10\n",
            "1250/1250 [==============================] - 20s 16ms/step - loss: 3.8865 - accuracy: 0.1050 - val_loss: 3.5830 - val_accuracy: 0.1463\n",
            "Epoch 2/10\n",
            "1250/1250 [==============================] - 18s 15ms/step - loss: 3.4344 - accuracy: 0.1734 - val_loss: 3.4062 - val_accuracy: 0.1838\n",
            "Epoch 3/10\n",
            "1250/1250 [==============================] - 18s 15ms/step - loss: 3.2177 - accuracy: 0.2138 - val_loss: 3.2196 - val_accuracy: 0.2125\n",
            "Epoch 4/10\n",
            "1250/1250 [==============================] - 20s 16ms/step - loss: 3.0723 - accuracy: 0.2398 - val_loss: 3.1015 - val_accuracy: 0.2298\n",
            "Epoch 5/10\n",
            "1250/1250 [==============================] - 21s 17ms/step - loss: 2.9619 - accuracy: 0.2603 - val_loss: 3.0004 - val_accuracy: 0.2582\n",
            "Epoch 6/10\n",
            "1250/1250 [==============================] - 19s 15ms/step - loss: 2.8739 - accuracy: 0.2779 - val_loss: 2.9573 - val_accuracy: 0.2671\n",
            "Epoch 7/10\n",
            "1250/1250 [==============================] - 19s 15ms/step - loss: 2.8033 - accuracy: 0.2886 - val_loss: 2.9764 - val_accuracy: 0.2609\n",
            "Epoch 8/10\n",
            "1250/1250 [==============================] - 20s 16ms/step - loss: 2.7449 - accuracy: 0.2995 - val_loss: 2.8355 - val_accuracy: 0.2836\n",
            "Epoch 9/10\n",
            "1250/1250 [==============================] - 21s 17ms/step - loss: 2.6951 - accuracy: 0.3086 - val_loss: 2.9198 - val_accuracy: 0.2743\n",
            "Epoch 10/10\n",
            "1250/1250 [==============================] - 18s 15ms/step - loss: 2.6597 - accuracy: 0.3162 - val_loss: 2.8522 - val_accuracy: 0.2852\n",
            "313/313 [==============================] - 2s 6ms/step - loss: 2.8583 - accuracy: 0.2831\n",
            "Loss:     2.86\n",
            "Accuracy: 28.31%\n"
          ]
        }
      ],
      "source": [
        "history = model.fit(\n",
        "    x_train,\n",
        "    y_train,\n",
        "    epochs=10,\n",
        "    batch_size=32,\n",
        "    validation_data=(x_val, y_val),\n",
        "    verbose=1\n",
        ")\n",
        "\n",
        "loss, accuracy = model.evaluate(x_test, y_test)\n",
        "\n",
        "print(f'Loss:     {loss:.2f}')\n",
        "print(f'Accuracy: {accuracy*100:.2f}%')\n",
        "\n",
        "# I tried 10 epochs as a starting point which seemed to be a good choice as you can see my accuracy stabilizing at around 7 epochs. I'm still getting an accuracy of 28.31% which is not great."
      ]
    },
    {
      "cell_type": "markdown",
      "id": "b48615c26b99d2e9",
      "metadata": {
        "collapsed": false,
        "id": "b48615c26b99d2e9"
      },
      "source": [
        "### Task 3b: Accuracy and other relevant metrics on the test set\n",
        "\n",
        "- Report the accuracy of your model on the test set.\n",
        "- While accuracy is a good metric, there are many other ways to numerically evaluate a model. Report at least one other metric, and explain what it measures and how it is calculated.\n",
        "\n",
        "- <b>Accuracy:</b> ______\n",
        "- <b>Other metric:</b> ______\n",
        "- <b>Reason for selection:</b> _____\n",
        "- <b>Value of metric:</b> ______\n",
        "- <b>Interpretation of metric value:</b> ______"
      ]
    },
    {
      "cell_type": "code",
      "execution_count": null,
      "id": "f670665fda92fb0e",
      "metadata": {
        "ExecuteTime": {
          "end_time": "2024-01-26T17:49:39.016880Z",
          "start_time": "2024-01-26T17:49:39.012100Z"
        },
        "id": "f670665fda92fb0e"
      },
      "outputs": [
        {
          "name": "stdout",
          "output_type": "stream",
          "text": [
            "313/313 [==============================] - 5s 10ms/step - loss: 2.8583 - accuracy: 0.2831 - precision: 0.6505 - recall: 0.1035\n",
            "Loss:     2.86\n",
            "Accuracy: 28.31%\n",
            "Precision: 65.05%\n",
            "Recall: 10.35%\n"
          ]
        }
      ],
      "source": [
        "from tensorflow.keras.metrics import Precision, Recall\n",
        "\n",
        "model.compile(\n",
        "    loss='categorical_crossentropy',\n",
        "    optimizer='Adam',\n",
        "    metrics=['accuracy', Precision(), Recall()]\n",
        ")\n",
        "\n",
        "loss, accuracy, precision, recall = model.evaluate(x_test, y_test)\n",
        "\n",
        "print(f'Loss:     {loss:.2f}')\n",
        "print(f'Accuracy: {accuracy*100:.2f}%')\n",
        "print(f'Precision: {precision*100:.2f}%')\n",
        "print(f'Recall: {recall*100:.2f}%')\n",
        "\n",
        "# Accuracy: 28.31%\n",
        "# Other metric: Precision and Recall\n",
        "# Reason for selection: Since my accuracy was so low, I opted for 2 more metrics to really see what was going on. Both precision and recall seemed like\n",
        "#                       a good place to start\n",
        "# Value of metric: Precision - 65.05%\n",
        "#                  Recall - 10.35%\n",
        "# Interpretation of metric value: Precision was higher than I expected given my low accuracy, but it's good to know that the model is getting more than\n",
        "#                                 half of it's positive predictions right. Recall was way lower than expected, which is not great since this represents\n",
        "#                                 the actual number of positives that were identified correctly. "
      ]
    },
    {
      "cell_type": "markdown",
      "id": "58d2d836d4e8ce99",
      "metadata": {
        "collapsed": false,
        "id": "58d2d836d4e8ce99"
      },
      "source": [
        "### Task 3c: Visualize the model's learning\n",
        "\n",
        "- Plot the training accuracy and validation accuracy with respect to epochs.\n",
        "- Select an image that the model correctly classified in the test set, and an image that the model incorrectly classified in the test set. Plot the images and report the model's classification probabilities for each.\n",
        "- Briefly discuss the results. What do the plots show? Do the results make sense? What do the classification probabilities indicate?"
      ]
    },
    {
      "cell_type": "code",
      "execution_count": 13,
      "id": "c5b214475a496ca5",
      "metadata": {
        "ExecuteTime": {
          "end_time": "2024-01-26T17:50:59.733968Z",
          "start_time": "2024-01-26T17:50:59.730635Z"
        },
        "colab": {
          "base_uri": "https://localhost:8080/",
          "height": 465
        },
        "id": "c5b214475a496ca5",
        "outputId": "85bb7eb2-445f-4742-db44-a4783ed88421"
      },
      "outputs": [
        {
          "data": {
            "image/png": "[encoded data removed]",
            "text/plain": [
              "<Figure size 500x500 with 1 Axes>"
            ]
          },
          "metadata": {},
          "output_type": "display_data"
        }
      ],
      "source": [
        "plt.figure(figsize=(5, 5))\n",
        "plt.plot(history.history['accuracy'], label='Training Accuracy')\n",
        "plt.plot(history.history['val_accuracy'], label='Validation Accuracy')\n",
        "plt.xlabel('Epochs')\n",
        "plt.ylabel('Accuracy')\n",
        "plt.legend()\n",
        "plt.grid(True)\n",
        "plt.show()"
      ]
    },
    {
      "cell_type": "code",
      "execution_count": 14,
      "id": "b152ea1a",
      "metadata": {},
      "outputs": [
        {
          "data": {
            "image/png": "[encoded data removed]",
            "text/plain": [
              "<Figure size 640x480 with 1 Axes>"
            ]
          },
          "metadata": {},
          "output_type": "display_data"
        }
      ],
      "source": [
        "import tensorflow as tf\n",
        "\n",
        "# Correctly classified/most confident sample\n",
        "\n",
        "predictions_tf = model(x_test)\n",
        "predicted_values_tf = tf.reduce_max(predictions_tf, axis=1)\n",
        "\n",
        "most_confident_index_tf = tf.argmax(predicted_values_tf).numpy()\n",
        "most_confident_sample_tf = x_test[most_confident_index_tf]\n",
        "most_confident_label_tf = np.argmax(y_test[most_confident_index_tf])\n",
        "\n",
        "plt.imshow(most_confident_sample_tf)\n",
        "plt.title(f\"Predicted: {class_names[most_confident_label_tf]}, Confidence: {predicted_values_tf[most_confident_index_tf]:.4f}\")\n",
        "plt.axis('off')\n",
        "plt.show()\n"
      ]
    },
    {
      "cell_type": "code",
      "execution_count": 15,
      "id": "a84fffc9",
      "metadata": {},
      "outputs": [
        {
          "data": {
            "image/png": "[encoded data removed]",
            "text/plain": [
              "<Figure size 640x480 with 1 Axes>"
            ]
          },
          "metadata": {},
          "output_type": "display_data"
        }
      ],
      "source": [
        "# Incorrectly classified/least confident sample\n",
        "\n",
        "predictions_tf = model(x_test)\n",
        "predicted_values_tf = tf.reduce_max(predictions_tf, axis=1)\n",
        "\n",
        "least_confident_index_tf = tf.argmin(predicted_values_tf).numpy()\n",
        "least_confident_sample_tf = x_test[least_confident_index_tf]\n",
        "least_confident_label_tf = np.argmax(y_test[least_confident_index_tf])\n",
        "\n",
        "plt.imshow(least_confident_sample_tf)\n",
        "plt.title(f\"Predicted: {class_names[least_confident_label_tf]}, Confidence: {predicted_values_tf[least_confident_index_tf]:.4f}\")\n",
        "plt.axis('off')\n",
        "plt.show()\n"
      ]
    },
    {
      "cell_type": "markdown",
      "id": "a648758ebea0561d",
      "metadata": {
        "collapsed": false,
        "id": "a648758ebea0561d"
      },
      "source": [
        "## Task 4: Model Enhancement (Complete or Incomplete)\n",
        "### Task 4a: Implementation of at least one advanced technique\n",
        "\n",
        "- Now it's time to improve your model. Implement at least one technique to improve your model's performance. You can use any of the techniques we have covered in class, or you can use a technique that we haven't covered. If you need inspiration, you can refer to the [Keras documentation](https://keras.io/).\n",
        "- Explain the technique you used and why you chose it.\n",
        "- If you used a technique that requires tuning, explain how you selected the values for the hyperparameters."
      ]
    },
    {
      "cell_type": "code",
      "execution_count": 19,
      "id": "f3659ac83122567f",
      "metadata": {
        "id": "f3659ac83122567f"
      },
      "outputs": [
        {
          "name": "stdout",
          "output_type": "stream",
          "text": [
            "Model: \"sequential_4\"\n",
            "_________________________________________________________________\n",
            " Layer (type)                Output Shape              Param #   \n",
            "=================================================================\n",
            " conv2d_8 (Conv2D)           (None, 30, 30, 32)        896       \n",
            "                                                                 \n",
            " max_pooling2d_8 (MaxPooling  (None, 15, 15, 32)       0         \n",
            " 2D)                                                             \n",
            "                                                                 \n",
            " conv2d_9 (Conv2D)           (None, 13, 13, 64)        18496     \n",
            "                                                                 \n",
            " max_pooling2d_9 (MaxPooling  (None, 6, 6, 64)         0         \n",
            " 2D)                                                             \n",
            "                                                                 \n",
            " flatten_4 (Flatten)         (None, 2304)              0         \n",
            "                                                                 \n",
            " dropout_3 (Dropout)         (None, 2304)              0         \n",
            "                                                                 \n",
            " dense_8 (Dense)             (None, 32)                73760     \n",
            "                                                                 \n",
            " dense_9 (Dense)             (None, 100)               3300      \n",
            "                                                                 \n",
            "=================================================================\n",
            "Total params: 96,452\n",
            "Trainable params: 96,452\n",
            "Non-trainable params: 0\n",
            "_________________________________________________________________\n"
          ]
        }
      ],
      "source": [
        "enhanced_model = models.Sequential()\n",
        "\n",
        "enhanced_model.add(layers.Conv2D(32, (3, 3), activation='relu', input_shape=(32, 32, 3)))\n",
        "enhanced_model.add(layers.MaxPooling2D((2, 2)))\n",
        "enhanced_model.add(layers.Conv2D(64, (3, 3), activation='relu',))\n",
        "enhanced_model.add(layers.MaxPooling2D((2, 2)))\n",
        "enhanced_model.add(layers.Flatten())\n",
        "enhanced_model.add(layers.Dropout(0.5))\n",
        "enhanced_model.add(layers.Dense(32, activation='relu'))\n",
        "enhanced_model.add(layers.Dense(100, activation='softmax'))\n",
        "\n",
        "enhanced_model.summary()\n",
        "\n",
        "# I chose to add a dropout layer because it's effective when a model has a large amount of parameters, this one has 96,452."
      ]
    },
    {
      "cell_type": "markdown",
      "id": "d9467a483a1dd5d3",
      "metadata": {
        "collapsed": false,
        "id": "d9467a483a1dd5d3"
      },
      "source": [
        "### Task 4b: Evaluation of the enhanced model\n",
        "\n",
        "- Re-train your model using the same number of epochs as before.\n",
        "- Compare the accuracy and other selected metric on the test set to the results you obtained before.\n",
        "- As before, plot the training accuracy and validation accuracy with respect to epochs, and select an image that the model correctly classified in the test set, and an image that the model incorrectly classified in the test set. Plot the images and report the model's classification probabilities for each."
      ]
    },
    {
      "cell_type": "code",
      "execution_count": 20,
      "id": "7c4701b36dc8fc55",
      "metadata": {
        "id": "7c4701b36dc8fc55"
      },
      "outputs": [
        {
          "name": "stdout",
          "output_type": "stream",
          "text": [
            "Epoch 1/10\n",
            "1250/1250 [==============================] - 22s 16ms/step - loss: 4.0967 - accuracy: 0.0727 - precision_4: 0.4457 - recall_4: 0.0010 - val_loss: 3.6794 - val_accuracy: 0.1390 - val_precision_4: 0.6800 - val_recall_4: 0.0034\n",
            "Epoch 2/10\n",
            "1250/1250 [==============================] - 18s 15ms/step - loss: 3.5590 - accuracy: 0.1573 - precision_4: 0.6092 - recall_4: 0.0145 - val_loss: 3.3382 - val_accuracy: 0.1976 - val_precision_4: 0.6831 - val_recall_4: 0.0222\n",
            "Epoch 3/10\n",
            "1250/1250 [==============================] - 19s 15ms/step - loss: 3.3141 - accuracy: 0.2001 - precision_4: 0.6481 - recall_4: 0.0327 - val_loss: 3.1741 - val_accuracy: 0.2327 - val_precision_4: 0.7066 - val_recall_4: 0.0419\n",
            "Epoch 4/10\n",
            "1250/1250 [==============================] - 20s 16ms/step - loss: 3.1526 - accuracy: 0.2287 - precision_4: 0.6594 - recall_4: 0.0494 - val_loss: 3.0117 - val_accuracy: 0.2622 - val_precision_4: 0.6999 - val_recall_4: 0.0625\n",
            "Epoch 5/10\n",
            "1250/1250 [==============================] - 20s 16ms/step - loss: 3.0333 - accuracy: 0.2517 - precision_4: 0.6748 - recall_4: 0.0646 - val_loss: 2.9173 - val_accuracy: 0.2820 - val_precision_4: 0.7165 - val_recall_4: 0.0695\n",
            "Epoch 6/10\n",
            "1250/1250 [==============================] - 20s 16ms/step - loss: 2.9470 - accuracy: 0.2686 - precision_4: 0.6971 - recall_4: 0.0754 - val_loss: 2.8394 - val_accuracy: 0.2931 - val_precision_4: 0.7010 - val_recall_4: 0.0938\n",
            "Epoch 7/10\n",
            "1250/1250 [==============================] - 19s 16ms/step - loss: 2.8721 - accuracy: 0.2807 - precision_4: 0.6968 - recall_4: 0.0879 - val_loss: 2.7815 - val_accuracy: 0.2950 - val_precision_4: 0.6972 - val_recall_4: 0.0951\n",
            "Epoch 8/10\n",
            "1250/1250 [==============================] - 20s 16ms/step - loss: 2.8155 - accuracy: 0.2934 - precision_4: 0.7030 - recall_4: 0.0958 - val_loss: 2.7107 - val_accuracy: 0.3153 - val_precision_4: 0.7320 - val_recall_4: 0.1060\n",
            "Epoch 9/10\n",
            "1250/1250 [==============================] - 20s 16ms/step - loss: 2.7681 - accuracy: 0.3064 - precision_4: 0.7022 - recall_4: 0.1046 - val_loss: 2.7200 - val_accuracy: 0.3118 - val_precision_4: 0.7208 - val_recall_4: 0.1123\n",
            "Epoch 10/10\n",
            "1250/1250 [==============================] - 20s 16ms/step - loss: 2.7166 - accuracy: 0.3135 - precision_4: 0.7188 - recall_4: 0.1144 - val_loss: 2.6822 - val_accuracy: 0.3266 - val_precision_4: 0.7095 - val_recall_4: 0.1131\n",
            "313/313 [==============================] - 2s 7ms/step - loss: 2.6858 - accuracy: 0.3266 - precision_4: 0.7384 - recall_4: 0.1160\n",
            "Enhanced Model Performance:\n",
            "Loss:     2.69\n",
            "Accuracy: 32.66%\n",
            "Precision: 73.84%\n",
            "Recall: 11.60%\n"
          ]
        }
      ],
      "source": [
        "enhanced_model.compile(\n",
        "    loss='categorical_crossentropy',\n",
        "    optimizer='Adam',\n",
        "    metrics=['accuracy', Precision(), Recall()]\n",
        ")\n",
        "\n",
        "history = enhanced_model.fit(\n",
        "    x_train,\n",
        "    y_train,\n",
        "    epochs=10,\n",
        "    batch_size=32,\n",
        "    validation_data=(x_val, y_val),\n",
        "    verbose=1\n",
        ")\n",
        "\n",
        "enhanced_loss, enhanced_accuracy, enhanced_precision, enhanced_recall = enhanced_model.evaluate(x_test, y_test)\n",
        "\n",
        "print('Enhanced Model Performance:')\n",
        "print(f'Loss:     {enhanced_loss:.2f}')\n",
        "print(f'Accuracy: {enhanced_accuracy*100:.2f}%')\n",
        "print(f'Precision: {enhanced_precision*100:.2f}%')\n",
        "print(f'Recall: {enhanced_recall*100:.2f}%')"
      ]
    },
    {
      "cell_type": "markdown",
      "id": "eadfc848700215e8",
      "metadata": {
        "collapsed": false,
        "id": "eadfc848700215e8"
      },
      "source": [
        "### Task 4c: Discussion of the results\n",
        "\n",
        "- Briefly discuss the results.\n",
        "- Did the model's performance improve?\n",
        "- Why do you think this is?\n",
        "- Do you think there is room for further improvement? Why or why not?\n",
        "- What other techniques might you try in the future?\n",
        "- Your answer should be no more than 200 words.\n",
        "\n",
        "# Your answer here"
      ]
    },
    {
      "cell_type": "code",
      "execution_count": 21,
      "id": "9520b6d6",
      "metadata": {},
      "outputs": [
        {
          "name": "stdout",
          "output_type": "stream",
          "text": [
            "313/313 [==============================] - 3s 9ms/step - loss: 2.8583 - accuracy: 0.2831 - precision: 0.6505 - recall: 0.1035\n",
            "Original Model Performance:\n",
            "Loss:     2.86\n",
            "Accuracy: 28.31%\n",
            "Precision: 65.05%\n",
            "Recall: 10.35%\n",
            "313/313 [==============================] - 3s 8ms/step - loss: 2.6858 - accuracy: 0.3266 - precision_4: 0.7384 - recall_4: 0.1160\n",
            "Enhanced Model Performance:\n",
            "Loss:     2.69\n",
            "Accuracy: 32.66%\n",
            "Precision: 73.84%\n",
            "Recall: 11.60%\n"
          ]
        }
      ],
      "source": [
        "loss, accuracy, precision, recall = model.evaluate(x_test, y_test)\n",
        "\n",
        "print('Original Model Performance:')\n",
        "print(f'Loss:     {loss:.2f}')\n",
        "print(f'Accuracy: {accuracy*100:.2f}%')\n",
        "print(f'Precision: {precision*100:.2f}%')\n",
        "print(f'Recall: {recall*100:.2f}%')\n",
        "\n",
        "enhanced_loss, enhanced_accuracy, enhanced_precision, enhanced_recall = enhanced_model.evaluate(x_test, y_test)\n",
        "\n",
        "print('Enhanced Model Performance:')\n",
        "print(f'Loss:     {enhanced_loss:.2f}')\n",
        "print(f'Accuracy: {enhanced_accuracy*100:.2f}%')\n",
        "print(f'Precision: {enhanced_precision*100:.2f}%')\n",
        "print(f'Recall: {enhanced_recall*100:.2f}%')\n",
        "\n",
        "# As you can see below, adding a dropout layer slightly increased my performance which is better than nothing! I think dropping half of the neurons\n",
        "# helped simplify the model and enhanced performance.\n",
        "\n",
        "# There is definitley room for improvements! I feel like my model may be overfitting so I would like to try out more techniques to help with that."
      ]
    },
    {
      "cell_type": "markdown",
      "id": "7415f68f",
      "metadata": {
        "id": "7415f68f"
      },
      "source": [
        "## Criteria\n",
        "\n",
        "|Criteria|Complete|Incomplete|\n",
        "|----|----|----|\n",
        "|Task 1|The task has been completed successfully and there are no errors.|The task is still incomplete and there is at least one error.|\n",
        "|Task 2|The task has been completed successfully and there are no errors.|The task is still incomplete and there is at least one error.|\n",
        "|Task 3|The task has been completed successfully and there are no errors.|The task is still incomplete and there is at least one error.|\n",
        "|Task 4|The task has been completed successfully and there are no errors.|The task is still incomplete and there is at least one error.|"
      ]
    },
    {
      "cell_type": "markdown",
      "id": "ad0c10bc",
      "metadata": {
        "id": "ad0c10bc"
      },
      "source": [
        "## Submission Information\n",
        "\n",
        "🚨 **Please review our [Assignment Submission Guide](https://github.com/UofT-DSI/onboarding/blob/main/onboarding_documents/submissions.md)** 🚨 for detailed instructions on how to format, branch, and submit your work. Following these guidelines is crucial for your submissions to be evaluated correctly.\n",
        "\n",
        "### Submission Parameters:\n",
        "* Submission Due Date: `HH:MM AM/PM - DD/MM/YYYY`\n",
        "* The branch name for your repo should be: `assignment-1`\n",
        "* What to submit for this assignment:\n",
        "    * This Jupyter Notebook (assignment_1.ipynb) should be populated and should be the only change in your pull request.\n",
        "* What the pull request link should look like for this assignment: `https://github.com/<your_github_username>/deep_learning/pull/<pr_id>`\n",
        "    * Open a private window in your browser. Copy and paste the link to your pull request into the address bar. Make sure you can see your pull request properly. This helps the technical facilitator and learning support staff review your submission easily.\n",
        "\n",
        "Checklist:\n",
        "- [ ] Created a branch with the correct naming convention.\n",
        "- [ ] Ensured that the repository is public.\n",
        "- [ ] Reviewed the PR description guidelines and adhered to them.\n",
        "- [ ] Verify that the link is accessible in a private browser window.\n",
        "\n",
        "If you encounter any difficulties or have questions, please don't hesitate to reach out to our team via our Slack at `#cohort-3-help`. Our Technical Facilitators and Learning Support staff are here to help you navigate any challenges."
      ]
    }
  ],
  "metadata": {
    "accelerator": "GPU",
    "colab": {
      "gpuType": "T4",
      "provenance": []
    },
    "kernelspec": {
      "display_name": "dsi_participant",
      "language": "python",
      "name": "python3"
    },
    "language_info": {
      "codemirror_mode": {
        "name": "ipython",
        "version": 3
      },
      "file_extension": ".py",
      "mimetype": "text/x-python",
      "name": "python",
      "nbconvert_exporter": "python",
      "pygments_lexer": "ipython3",
      "version": "3.9.15"
    }
  },
  "nbformat": 4,
  "nbformat_minor": 5
}
