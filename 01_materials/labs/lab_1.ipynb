{
 "cells": [
  {
   "cell_type": "markdown",
   "metadata": {},
   "source": [
    "# Training Neural Networks with Keras\n",
    "\n",
    "Welcome to the first practical session of the course! In this session, we will learn how to train neural networks with Keras. We will start with a simple example of a feedforward neural network for classification and then we will study the impact of the initialization of the weights on the convergence of the training algorithm.\n",
    "\n",
    "Keras is a high-level neural network API, built on top of TensorFlow 2.0. It provides a user-friendly interface to build, train and deploy deep learning models. Keras is designed to be modular, fast and easy to use.\n",
    "\n",
    "Throughout this course, we will focus on using Keras and TensorFlow for building and training neural networks. However, there are other popular deep learning frameworks such as PyTorch, MXNet, CNTK, etc. that you can also use to build and train neural networks.\n",
    "\n",
    "In order to use our code on Google Colab, we will need to ensure that any required packages are installed. We will use the following packages in this session:\n",
    "\n",
    "- `tensorflow`: an open-source library for numerical computation and large-scale machine learning.\n",
    "- `matplotlib`: a plotting library for the Python programming language and its numerical mathematics extension NumPy.\n",
    "- `numpy`: a library for scientific computing in Python.\n",
    "- `scikit-learn`: a machine learning library for the Python programming language.\n",
    "- `pandas`: a library providing high-performance, easy-to-use data structures and data analysis tools for the Python programming language.\n",
    "\n",
    "Today, we will be working with the famous MNIST dataset. MNIST (Modified National Institute of Standards and Technology) is a database of low resolution images of handwritten digits. The history here is interesting - the dataset was originally created in the 1980s, when researchers from the aforementioned institute collected samples from American Census Bureau employees and high school students. The dataset was then modified in the 1990s (hence the M in MNIST), and has since become a popular benchmark for machine learning algorithms. \n",
    "\n",
    "The dataset contains images, each of which is a 28x28 grayscale image of a handwritten digit. The goal is to classify each image into one of the 10 possible classes (0-9).\n",
    "\n",
    "![MNIST](https://upload.wikimedia.org/wikipedia/commons/2/27/MnistExamples.png)\n",
    "\n",
    "The Scikit-Learn library provides a convenient function to download and load the MNIST dataset. The following cell will download the dataset. Then we will take a look at the shape of the data."
   ]
  },
  {
   "cell_type": "code",
   "execution_count": 1,
   "metadata": {},
   "outputs": [],
   "source": [
    "import matplotlib.pyplot as plt\n",
    "import numpy as np\n",
    "\n",
    "from sklearn.datasets import load_digits\n",
    "\n",
    "digits = load_digits()"
   ]
  },
  {
   "cell_type": "code",
   "execution_count": 2,
   "metadata": {},
   "outputs": [
    {
     "data": {
      "text/plain": [
       "(1797, 8, 8)"
      ]
     },
     "execution_count": 2,
     "metadata": {},
     "output_type": "execute_result"
    }
   ],
   "source": [
    "digits.images.shape"
   ]
  },
  {
   "cell_type": "markdown",
   "metadata": {
    "collapsed": false
   },
   "source": [
    "This means that we have 1797 images, each of which is a 8x8 image. For basic image processing, we will need to flatten the images into a 1D array. In this case, Scikit-Learn has already provided the data in this format too:"
   ]
  },
  {
   "cell_type": "code",
   "execution_count": 3,
   "metadata": {},
   "outputs": [
    {
     "data": {
      "text/plain": [
       "(1797, 64)"
      ]
     },
     "execution_count": 3,
     "metadata": {},
     "output_type": "execute_result"
    }
   ],
   "source": [
    "digits.data.shape"
   ]
  },
  {
   "cell_type": "markdown",
   "metadata": {
    "collapsed": false
   },
   "source": [
    "For each image, we also have the corresponding label (or target, or class) in `digits.target`:"
   ]
  },
  {
   "cell_type": "code",
   "execution_count": 4,
   "metadata": {},
   "outputs": [
    {
     "data": {
      "text/plain": [
       "(1797,)"
      ]
     },
     "execution_count": 4,
     "metadata": {},
     "output_type": "execute_result"
    }
   ],
   "source": [
    "digits.target.shape"
   ]
  },
  {
   "cell_type": "markdown",
   "metadata": {
    "collapsed": false
   },
   "source": [
    "We can take a look at some random images from the dataset. The following cell will select 9 random images and plot them in a 3x3 grid (meaning that you can rerun the cell to see different images)."
   ]
  },
  {
   "cell_type": "code",
   "execution_count": 5,
   "metadata": {},
   "outputs": [
    {
     "data": {
      "image/png": "[encoded data removed]",
      "text/plain": [
       "<Figure size 600x600 with 9 Axes>"
      ]
     },
     "metadata": {},
     "output_type": "display_data"
    }
   ],
   "source": [
    "# Selecting 9 random indices\n",
    "random_indices = np.random.choice(len(digits.images), 9, replace=False)\n",
    "\n",
    "# Creating a 3x3 grid plot\n",
    "fig, axes = plt.subplots(3, 3, figsize=(6, 6))\n",
    "\n",
    "for i, ax in enumerate(axes.flat):\n",
    "    ax.imshow(digits.images[random_indices[i]], cmap=plt.cm.gray_r, interpolation='nearest')\n",
    "    ax.set_title(f\"Label: {digits.target[random_indices[i]]}\")\n",
    "\n",
    "    # Removing axis labels\n",
    "    ax.set_xticks([])\n",
    "    ax.set_yticks([])\n",
    "\n",
    "plt.show()"
   ]
  },
  {
   "cell_type": "markdown",
   "metadata": {
    "collapsed": false
   },
   "source": [
    "As you can see, these images are very low resolution. This is because they were originally scanned from paper forms, and then scaled down to 8x8 pixels. This is a common problem in machine learning - the quality of the data is often a limiting factor in the performance of the model. In this case, the low resolution of the images makes it difficult to distinguish between some digits, even for humans. For example, the following images are all labelled as 9, but they look very different:"
   ]
  },
  {
   "cell_type": "code",
   "execution_count": 6,
   "metadata": {
    "collapsed": false
   },
   "outputs": [
    {
     "data": {
      "image/png": "[encoded data removed]",
      "text/plain": [
       "<Figure size 600x600 with 9 Axes>"
      ]
     },
     "metadata": {},
     "output_type": "display_data"
    }
   ],
   "source": [
    "# Selecting 9 random indices of images labelled as 9\n",
    "random_indices = np.random.choice(np.where(digits.target == 9)[0], 9, replace=False)\n",
    "\n",
    "# Creating a 3x3 grid plot\n",
    "fig, axes = plt.subplots(3, 3, figsize=(6, 6))\n",
    "\n",
    "for i, ax in enumerate(axes.flat):\n",
    "    ax.imshow(digits.images[random_indices[i]], cmap=plt.cm.gray_r, interpolation='nearest')\n",
    "    ax.set_title(f\"Label: {digits.target[random_indices[i]]}\")\n",
    "\n",
    "    # Removing axis labels\n",
    "    ax.set_xticks([])\n",
    "    ax.set_yticks([])\n",
    "    \n",
    "plt.show()"
   ]
  },
  {
   "cell_type": "markdown",
   "metadata": {
    "collapsed": false
   },
   "source": [
    "While we are plotting the samples as images, remember that our model is only going to see a 1D array of numbers. "
   ]
  },
  {
   "cell_type": "markdown",
   "metadata": {},
   "source": [
    "## Train / Test Split\n",
    "\n",
    "In order to understand how well our model performs on _new_ data, we need to split our dataset into a training set and a test set. The training set will be used to train the model, and the test set will be used to evaluate the performance of the model.\n",
    "\n",
    "Let's keep some held-out data to be able to measure the generalization performance of our model. "
   ]
  },
  {
   "cell_type": "code",
   "execution_count": 7,
   "metadata": {},
   "outputs": [],
   "source": [
    "from sklearn.model_selection import train_test_split\n",
    "\n",
    "\n",
    "X_train, X_test, y_train, y_test = train_test_split(\n",
    "    digits.data, \n",
    "    digits.target,\n",
    "    test_size=0.2, # 20% of the data is used for testing\n",
    "    random_state=42 # Providing a value here means getting the same \"random\" split every time\n",
    ")"
   ]
  },
  {
   "cell_type": "markdown",
   "metadata": {
    "collapsed": false
   },
   "source": [
    "Let's confirm that the data has been split correctly:"
   ]
  },
  {
   "cell_type": "code",
   "execution_count": 8,
   "metadata": {
    "collapsed": false
   },
   "outputs": [
    {
     "name": "stdout",
     "output_type": "stream",
     "text": [
      "X_train shape: (1437, 64)\n",
      "y_train shape: (1437,)\n",
      "X_test shape: (360, 64)\n",
      "y_test shape: (360,)\n"
     ]
    }
   ],
   "source": [
    "print(f'X_train shape: {X_train.shape}')\n",
    "print(f'y_train shape: {y_train.shape}')\n",
    "print(f'X_test shape: {X_test.shape}')\n",
    "print(f'y_test shape: {y_test.shape}')"
   ]
  },
  {
   "cell_type": "markdown",
   "metadata": {
    "collapsed": false
   },
   "source": [
    "This is what we expected to see. It's always good to check as you go, to make sure that you haven't made a mistake somewhere - this is something that working in a notebook like this makes it easy to do."
   ]
  },
  {
   "cell_type": "markdown",
   "metadata": {},
   "source": [
    "## Preprocessing of the Target Data\n",
    "\n",
    "The labels that we have are integers between 0 and 9. However, we want to train a neural network to classify the images into one of 10 classes. It can be a little counter-intuitive because we are dealing with numbers, but our classes are not ordinal.\n",
    "\n",
    "What do we mean by that? Let's imagine we were trying to predict the height of a building (separated into classes) from images. If a given building was actually 10m tall, and our model predicted 9m, we would consider that to be a better prediction than if it predicted 1m. This is because the classes are ordinal - there is meaning in the difference between the classes.\n",
    "\n",
    "In our case, even though we are dealing with numbers, the classes are not ordinal. If a given image is actually a 9, and our model predicts 8, we would consider that to be just as bad as if it predicted 1. This is because the classes are not ordered, and the difference between the classes is not meaningful.\n",
    "\n",
    "Because of this, we need to convert our labels from an integer value into a one-hot encoded vector. This means that each label will be represented as a vector of length 10, with a 1 in the position corresponding to the class, and 0s everywhere else. For example, the label 9 would be represented as `[0, 0, 0, 0, 0, 0, 0, 0, 0, 1]`. This is a common way of representing categorical data in machine learning. By doing this, we ensure that our model is taught the correct relationship between the classes."
   ]
  },
  {
   "cell_type": "code",
   "execution_count": 9,
   "metadata": {},
   "outputs": [
    {
     "name": "stdout",
     "output_type": "stream",
     "text": [
      "Before one-hot encoding: 6\n",
      "After one-hot encoding: [0. 0. 0. 0. 0. 0. 1. 0. 0. 0.]\n"
     ]
    }
   ],
   "source": [
    "from tensorflow.keras.utils import to_categorical\n",
    "\n",
    "print(f'Before one-hot encoding: {y_train[0]}')\n",
    "y_train = to_categorical(y_train, num_classes=10)\n",
    "y_test = to_categorical(y_test, num_classes=10)\n",
    "print(f'After one-hot encoding: {y_train[0]}')"
   ]
  },
  {
   "cell_type": "markdown",
   "metadata": {},
   "source": [
    "## Feed Forward Neural Networks with Keras\n",
    "\n",
    "Now that we have prepared our data, it's time to build a simple neural network! In this section, we will use the Keras API to build a simple feed forward neural network. We will then train the model on the MNIST dataset, and evaluate its performance on the test set.\n",
    "\n",
    "In most modern deep learning frameworks, the process of building a model can be broken down into a few steps:\n",
    "\n",
    "- Define the model architecture: this is where we define the layers of the model, and how they are connected to each other.\n",
    "- Compile the model: this is where we define the loss function, the optimizer, and the metrics that we want to use to evaluate the model.\n",
    "- Train the model: this is where we train the model on the training data.\n",
    "\n",
    "Let's start with defining the model architecture. There are two ways to do this in Keras - the Sequential API and the Functional API. The Sequential API is the simplest way to build a model, and is suitable for most use cases. The Functional API is more flexible, and allows you to build more complex models. We will start with the Sequential API, and then we will look at the Functional API later in the course.\n",
    "\n",
    "Our simple neural network will be \"fully-connected\". This means that each neuron in a given layer is connected to every neuron in the next layer. This is also known as a \"dense\" layer. We will use the `Dense` class from Keras to define our layers."
   ]
  },
  {
   "cell_type": "code",
   "execution_count": 10,
   "metadata": {
    "collapsed": false
   },
   "outputs": [
    {
     "name": "stdout",
     "output_type": "stream",
     "text": [
      "Model: \"sequential\"\n",
      "_________________________________________________________________\n",
      " Layer (type)                Output Shape              Param #   \n",
      "=================================================================\n",
      " dense (Dense)               (None, 64)                4160      \n",
      "                                                                 \n",
      " dense_1 (Dense)             (None, 64)                4160      \n",
      "                                                                 \n",
      " dense_2 (Dense)             (None, 10)                650       \n",
      "                                                                 \n",
      "=================================================================\n",
      "Total params: 8,970\n",
      "Trainable params: 8,970\n",
      "Non-trainable params: 0\n",
      "_________________________________________________________________\n"
     ]
    }
   ],
   "source": [
    "from tensorflow.keras.models import Sequential\n",
    "from tensorflow.keras.layers import Dense\n",
    "\n",
    "model = Sequential()\n",
    "\n",
    "# Input layer\n",
    "model.add(Dense(64, activation='relu', input_shape=(64,))) # 64 neurons, ReLU activation, input shape of 64\n",
    "\n",
    "# Hidden layer\n",
    "model.add(Dense(64, activation='relu')) # 64 neurons, ReLU activation\n",
    "\n",
    "# Output layer\n",
    "model.add(Dense(10, activation='softmax')) # 10 neurons, softmax activation\n",
    "\n",
    "model.summary()"
   ]
  },
  {
   "cell_type": "markdown",
   "metadata": {
    "collapsed": false
   },
   "source": [
    "Congratulations! You have just built your first neural network with Keras. As we can confirm from the `model.summary()` output, our model has 3 layers. The first layer has 64 neurons, the second layer has 64 neurons, and the output layer has 10 neurons. The output layer uses the softmax activation function, which is commonly used for multi-class classification problems. The other layers use the ReLU activation function, which is commonly used for hidden layers in neural networks.\n",
    "\n",
    "Next, we need to compile the model. This is where we define the loss function, the optimizer, and the metrics that we want to use to evaluate the model. We will use the `compile` method of the model to do this."
   ]
  },
  {
   "cell_type": "code",
   "execution_count": 11,
   "metadata": {
    "collapsed": false
   },
   "outputs": [],
   "source": [
    "model.compile(\n",
    "    loss='categorical_crossentropy', # Loss function\n",
    "    optimizer='sgd', # Optimizer\n",
    "    metrics=['accuracy'] # Metrics to evaluate the model\n",
    ")"
   ]
  },
  {
   "cell_type": "markdown",
   "metadata": {
    "collapsed": false
   },
   "source": [
    "Because we are predicting which class a sample belongs to, we will use the `categorical_crossentropy` function. This loss function is commonly used for multi-class classification problems. \n",
    "\n",
    "For our optimizer, we are using the standard stochastic gradient descent (SGD) algorithm. This is a simple optimizer that works well for many problems. We will look at more advanced optimizers later in the course.\n",
    "\n",
    "Finally, we are using the `accuracy` metric to evaluate the model. This is a common metric for classification problems, and it is simply the fraction of samples that are correctly classified. This is an easier metric for us to understand, but it's not quite as useful for actually training the model (for example, it doesn't tell us how \"confident\" the model is in its predictions).\n",
    "\n",
    "Now that we have (a) defined the model architecture and (b) compiled the model, we are ready to train the model. We will use the `fit` method of the model to do this."
   ]
  },
  {
   "cell_type": "code",
   "execution_count": 12,
   "metadata": {
    "collapsed": false
   },
   "outputs": [
    {
     "name": "stdout",
     "output_type": "stream",
     "text": [
      "Epoch 1/5\n",
      "36/36 [==============================] - 1s 11ms/step - loss: 1.6464 - accuracy: 0.5770 - val_loss: 0.6937 - val_accuracy: 0.7708\n",
      "Epoch 2/5\n",
      "36/36 [==============================] - 0s 3ms/step - loss: 0.5721 - accuracy: 0.8207 - val_loss: 0.4789 - val_accuracy: 0.8368\n",
      "Epoch 3/5\n",
      "36/36 [==============================] - 0s 3ms/step - loss: 0.3818 - accuracy: 0.8825 - val_loss: 0.3827 - val_accuracy: 0.8819\n",
      "Epoch 4/5\n",
      "36/36 [==============================] - 0s 3ms/step - loss: 0.2788 - accuracy: 0.9225 - val_loss: 0.3167 - val_accuracy: 0.8958\n",
      "Epoch 5/5\n",
      "36/36 [==============================] - 0s 3ms/step - loss: 0.2271 - accuracy: 0.9434 - val_loss: 0.2896 - val_accuracy: 0.8958\n"
     ]
    },
    {
     "data": {
      "text/plain": [
       "<keras.callbacks.History at 0x25fe31fb160>"
      ]
     },
     "execution_count": 12,
     "metadata": {},
     "output_type": "execute_result"
    }
   ],
   "source": [
    "model.fit(\n",
    "    X_train, # Training data\n",
    "    y_train, # Training labels\n",
    "    epochs=5, # Number of epochs\n",
    "    batch_size=32, # Number of samples per batch\n",
    "    validation_split=0.2 # Use 20% of the data for validation\n",
    ")"
   ]
  },
  {
   "cell_type": "markdown",
   "metadata": {
    "collapsed": false
   },
   "source": [
    "We have now trained our model! We can see that the model has been trained for 5 epochs, and the loss and accuracy have been printed for each epoch. We can also see that the model has been evaluated on the validation data at the end of each epoch. This is useful for us to see how the model is performing on data that it hasn't seen during training.\n",
    "\n",
    "Once the model is trained, it's time to evaluate the model on the test set. We can use the `evaluate` method of the model to do this. If you were building a model for a real-world application, this is the very last thing you would do, and the result here would be the figure you'd report in your paper or presentation."
   ]
  },
  {
   "cell_type": "code",
   "execution_count": 13,
   "metadata": {
    "collapsed": false
   },
   "outputs": [
    {
     "name": "stdout",
     "output_type": "stream",
     "text": [
      "12/12 [==============================] - 0s 3ms/step - loss: 0.2071 - accuracy: 0.9389\n",
      "Loss:     0.21\n",
      "Accuracy: 93.89%\n"
     ]
    }
   ],
   "source": [
    "loss, accuracy = model.evaluate(X_test, y_test)\n",
    "\n",
    "print(f'Loss:     {loss:.2f}')\n",
    "print(f'Accuracy: {accuracy*100:.2f}%')"
   ]
  },
  {
   "cell_type": "markdown",
   "metadata": {
    "collapsed": false
   },
   "source": [
    "Hopefully you have achieved an accuracy of around 95%. This is pretty good, but we can do better! In the next section, we will look at how we can improve the performance of our model by using a more advanced optimizer. But before we get there, let's do one other thing - let's look at the predictions that our model is making on the test set. When you are building a model, it's often useful to have a look at some of the examples your model is getting wrong. Sometimes this can reveal problems with the data, or it can give you ideas for how to improve your model."
   ]
  },
  {
   "cell_type": "code",
   "execution_count": 14,
   "metadata": {
    "collapsed": false
   },
   "outputs": [
    {
     "name": "stdout",
     "output_type": "stream",
     "text": [
      "12/12 [==============================] - 0s 2ms/step\n"
     ]
    },
    {
     "data": {
      "image/png": "[encoded data removed]",
      "text/plain": [
       "<Figure size 600x600 with 9 Axes>"
      ]
     },
     "metadata": {},
     "output_type": "display_data"
    }
   ],
   "source": [
    "# Get the predictions for the test data\n",
    "predictions = model.predict(X_test)\n",
    "\n",
    "# Get the index of the largest probability (i.e. the predicted class)\n",
    "predicted_classes = np.argmax(predictions, axis=1)\n",
    "true_classes = np.argmax(y_test, axis=1)\n",
    "misclassified_indices = np.where(predicted_classes != true_classes)[0]\n",
    "\n",
    "# Get the misclassified samples themselves\n",
    "misclassified_samples = X_test[misclassified_indices]\n",
    "misclassified_labels = np.argmax(y_test[misclassified_indices], axis=1)\n",
    "\n",
    "# Pick 9 random misclassified samples\n",
    "random_indices = np.random.choice(len(misclassified_indices), 9, replace=False)\n",
    "\n",
    "fig, axes = plt.subplots(3, 3, figsize=(6, 6))\n",
    "for i, ax in enumerate(axes.flat):\n",
    "    ax.imshow(misclassified_samples[random_indices[i]].reshape(8, 8), cmap=plt.cm.gray_r, interpolation='nearest')\n",
    "    ax.set_title(f\"Pred: {predicted_classes[misclassified_indices[random_indices[i]]]}, Real: {misclassified_labels[random_indices[i]]}\")\n",
    "\n",
    "    # Removing axis labels\n",
    "    ax.set_xticks([])\n",
    "    ax.set_yticks([])\n",
    "    \n",
    "plt.show()"
   ]
  },
  {
   "cell_type": "markdown",
   "metadata": {
    "collapsed": false
   },
   "source": [
    "What do you think? Would you have made the same mistakes as the model? Determining whether the mistakes are \"understandable\" is a rough way of seeing if you could improve the model further, or if this is the best you can do with the data you have."
   ]
  },
  {
   "cell_type": "markdown",
   "metadata": {},
   "source": [
    "### b) Exercises: Impact of the Optimizer\n",
    "\n",
    "In this section, you will play around with the optimizer and see how it affects the performance of the model. We will start with the standard SGD optimizer, and then we will look at more advanced optimizers.\n",
    "\n",
    "1. Try decreasing the learning rate of the SGD optimizer by a factor of 10, or 100. What do you observe?\n",
    "2. Try increasing the learning rate of the SGD optimizer. What happens?\n",
    "3. The SGD optimizer has a momentum parameter. In a nutshell, this parameter controls how much the gradient from the previous step affects the current step. Try enabling momentum in the SGD optimizer with a value of 0.9. What happens?\n",
    "  \n",
    "**Notes**: \n",
    "\n",
    "The keras API documentation is available at:\n",
    "\n",
    "https://www.tensorflow.org/api_docs/python/tf/keras\n",
    "\n",
    "It is also possible to learn more about the parameters of a class by using the question mark: type and evaluate:\n",
    "\n",
    "```python\n",
    "optimizers.SGD?\n",
    "```\n",
    "\n",
    "in a jupyter notebook cell.\n",
    "\n",
    "It is also possible to type the beginning of a function call / constructor and type \"shift-tab\" after the opening paren:\n",
    "\n",
    "```python\n",
    "optimizers.SGD(<shift-tab>\n",
    "```"
   ]
  },
  {
   "cell_type": "code",
   "execution_count": null,
   "metadata": {},
   "outputs": [
    {
     "name": "stdout",
     "output_type": "stream",
     "text": [
      "Epoch 1/5\n",
      "36/36 [==============================] - 1s 10ms/step - loss: 0.1812 - accuracy: 0.9547 - val_loss: 0.2701 - val_accuracy: 0.9236\n",
      "Epoch 2/5\n",
      "36/36 [==============================] - 0s 3ms/step - loss: 0.1708 - accuracy: 0.9608 - val_loss: 0.2674 - val_accuracy: 0.9201\n",
      "Epoch 3/5\n",
      "36/36 [==============================] - 0s 4ms/step - loss: 0.1677 - accuracy: 0.9634 - val_loss: 0.2654 - val_accuracy: 0.9201\n",
      "Epoch 4/5\n",
      "36/36 [==============================] - 0s 4ms/step - loss: 0.1642 - accuracy: 0.9652 - val_loss: 0.2639 - val_accuracy: 0.9201\n",
      "Epoch 5/5\n",
      "36/36 [==============================] - 0s 3ms/step - loss: 0.1613 - accuracy: 0.9617 - val_loss: 0.2616 - val_accuracy: 0.9201\n",
      "12/12 [==============================] - 0s 1ms/step - loss: 0.1836 - accuracy: 0.9333\n",
      "Loss:     0.18\n",
      "Accuracy: 93.33%\n",
      "Epoch 1/5\n",
      "36/36 [==============================] - 1s 11ms/step - loss: 0.1572 - accuracy: 0.9669 - val_loss: 0.2615 - val_accuracy: 0.9201\n",
      "Epoch 2/5\n",
      "36/36 [==============================] - 0s 3ms/step - loss: 0.1569 - accuracy: 0.9661 - val_loss: 0.2613 - val_accuracy: 0.9201\n",
      "Epoch 3/5\n",
      "36/36 [==============================] - 0s 3ms/step - loss: 0.1566 - accuracy: 0.9652 - val_loss: 0.2612 - val_accuracy: 0.9201\n",
      "Epoch 4/5\n",
      "36/36 [==============================] - 0s 3ms/step - loss: 0.1563 - accuracy: 0.9661 - val_loss: 0.2610 - val_accuracy: 0.9201\n",
      "Epoch 5/5\n",
      "36/36 [==============================] - 0s 3ms/step - loss: 0.1560 - accuracy: 0.9687 - val_loss: 0.2608 - val_accuracy: 0.9201\n",
      "12/12 [==============================] - 0s 3ms/step - loss: 0.1822 - accuracy: 0.9361\n",
      "Loss:     0.18\n",
      "Accuracy: 93.61%\n"
     ]
    }
   ],
   "source": [
    "# 1. Decreasing the learning rate\n",
    "\n",
    "from tensorflow.keras.optimizers import SGD\n",
    "\n",
    "# Decrease by a factor of 10\n",
    "model.compile(\n",
    "    loss='categorical_crossentropy',\n",
    "    optimizer=SGD(learning_rate=(0.01/10)),\n",
    "    metrics=['accuracy']\n",
    ")\n",
    "\n",
    "model.fit(\n",
    "    X_train,\n",
    "    y_train,\n",
    "    epochs=5,\n",
    "    batch_size=32,\n",
    "    validation_split=0.2\n",
    ")\n",
    "\n",
    "loss, accuracy = model.evaluate(X_test, y_test)\n",
    "print(f'Loss:     {loss:.2f}')\n",
    "print(f'Accuracy: {accuracy*100:.2f}%')\n",
    "\n",
    "# Decrease by a factor of 100\n",
    "model.compile(\n",
    "    loss='categorical_crossentropy',\n",
    "    optimizer=SGD(learning_rate=(0.01/100)),\n",
    "    metrics=['accuracy']\n",
    ")\n",
    "\n",
    "model.fit(\n",
    "    X_train,\n",
    "    y_train,\n",
    "    epochs=5,\n",
    "    batch_size=32,\n",
    "    validation_split=0.2\n",
    ")\n",
    "\n",
    "loss, accuracy = model.evaluate(X_test, y_test)\n",
    "print(f'Loss:     {loss:.2f}')\n",
    "print(f'Accuracy: {accuracy*100:.2f}%')\n",
    "\n",
    "# when we decrease the learning rate, there is hardly any change in accuracy\n"
   ]
  },
  {
   "cell_type": "code",
   "execution_count": null,
   "metadata": {},
   "outputs": [
    {
     "name": "stdout",
     "output_type": "stream",
     "text": [
      "Epoch 1/5\n",
      "36/36 [==============================] - 1s 12ms/step - loss: 2.3102 - accuracy: 0.1027 - val_loss: 2.3153 - val_accuracy: 0.1076\n",
      "Epoch 2/5\n",
      "36/36 [==============================] - 0s 4ms/step - loss: 2.3091 - accuracy: 0.1070 - val_loss: 2.3230 - val_accuracy: 0.1076\n",
      "Epoch 3/5\n",
      "36/36 [==============================] - 0s 3ms/step - loss: 2.3152 - accuracy: 0.0940 - val_loss: 2.3111 - val_accuracy: 0.1076\n",
      "Epoch 4/5\n",
      "36/36 [==============================] - 0s 4ms/step - loss: 2.3128 - accuracy: 0.0853 - val_loss: 2.3142 - val_accuracy: 0.1042\n",
      "Epoch 5/5\n",
      "36/36 [==============================] - 0s 4ms/step - loss: 2.3116 - accuracy: 0.0983 - val_loss: 2.3095 - val_accuracy: 0.0833\n",
      "12/12 [==============================] - 0s 3ms/step - loss: 2.3115 - accuracy: 0.0972\n",
      "Loss:     2.31\n",
      "Accuracy: 9.72%\n"
     ]
    }
   ],
   "source": [
    "# 2. Increasing the learning rate\n",
    "\n",
    "# Increase by 100\n",
    "model.compile(\n",
    "    loss='categorical_crossentropy',\n",
    "    optimizer=SGD(learning_rate=(0.01*100)),\n",
    "    metrics=['accuracy']\n",
    ")\n",
    "\n",
    "model.fit(\n",
    "    X_train,\n",
    "    y_train,\n",
    "    epochs=5,\n",
    "    batch_size=32,\n",
    "    validation_split=0.2\n",
    ")\n",
    "\n",
    "loss, accuracy = model.evaluate(X_test, y_test)\n",
    "print(f'Loss:     {loss:.2f}')\n",
    "print(f'Accuracy: {accuracy*100:.2f}%')\n",
    "\n",
    "# when we increase the learning rate, we see a drastic increase in loss and decrease in accuracy"
   ]
  },
  {
   "cell_type": "code",
   "execution_count": null,
   "metadata": {},
   "outputs": [
    {
     "name": "stdout",
     "output_type": "stream",
     "text": [
      "Epoch 1/5\n",
      "36/36 [==============================] - 1s 11ms/step - loss: 2.3015 - accuracy: 0.1070 - val_loss: 2.3105 - val_accuracy: 0.1076\n",
      "Epoch 2/5\n",
      "36/36 [==============================] - 0s 3ms/step - loss: 2.3013 - accuracy: 0.1070 - val_loss: 2.3104 - val_accuracy: 0.1076\n",
      "Epoch 3/5\n",
      "36/36 [==============================] - 0s 3ms/step - loss: 2.3018 - accuracy: 0.1070 - val_loss: 2.3096 - val_accuracy: 0.1076\n",
      "Epoch 4/5\n",
      "36/36 [==============================] - 0s 3ms/step - loss: 2.3015 - accuracy: 0.0992 - val_loss: 2.3104 - val_accuracy: 0.1076\n",
      "Epoch 5/5\n",
      "36/36 [==============================] - 0s 3ms/step - loss: 2.3015 - accuracy: 0.0983 - val_loss: 2.3096 - val_accuracy: 0.0833\n",
      "12/12 [==============================] - 0s 2ms/step - loss: 2.3126 - accuracy: 0.0972\n",
      "Loss:     2.31\n",
      "Accuracy: 9.72%\n"
     ]
    }
   ],
   "source": [
    "# 3. SGD with momentum\n",
    "\n",
    "model.compile(\n",
    "    loss='categorical_crossentropy',\n",
    "    optimizer=SGD(momentum=0.9),\n",
    "    metrics=['accuracy']\n",
    ")\n",
    "\n",
    "model.fit(\n",
    "    X_train,\n",
    "    y_train,\n",
    "    epochs=5,\n",
    "    batch_size=32,\n",
    "    validation_split=0.2\n",
    ")\n",
    "\n",
    "loss, accuracy = model.evaluate(X_test, y_test)\n",
    "print(f'Loss:     {loss:.2f}')\n",
    "print(f'Accuracy: {accuracy*100:.2f}%')\n",
    "\n",
    "# There was no change when we enabled momentum"
   ]
  },
  {
   "cell_type": "markdown",
   "metadata": {},
   "source": [
    "Next, let's try a more advanced optimizer. Adam is likely the most popular optimizer for deep learning. It is an adaptive learning rate optimizer, which means that it automatically adjusts the learning rate based on how the training is going. This can be very useful, as it means that we don't need to manually tune the learning rate. Let's see how it performs on our model.\n",
    "\n",
    "\n",
    "1. Replace the SGD optimizer by the Adam optimizer from keras and run it\n",
    "  with the default parameters.\n",
    "\n",
    "2. Add another hidden layer with ReLU activation and 64 neurons. Does it improve the model performance?\n"
   ]
  },
  {
   "cell_type": "code",
   "execution_count": 23,
   "metadata": {},
   "outputs": [
    {
     "name": "stdout",
     "output_type": "stream",
     "text": [
      "Epoch 1/5\n",
      "36/36 [==============================] - 1s 10ms/step - loss: 2.3009 - accuracy: 0.1062 - val_loss: 2.3093 - val_accuracy: 0.1076\n",
      "Epoch 2/5\n",
      "36/36 [==============================] - 0s 4ms/step - loss: 2.3008 - accuracy: 0.1070 - val_loss: 2.3095 - val_accuracy: 0.1076\n",
      "Epoch 3/5\n",
      "36/36 [==============================] - 0s 4ms/step - loss: 2.3008 - accuracy: 0.0992 - val_loss: 2.3095 - val_accuracy: 0.1076\n",
      "Epoch 4/5\n",
      "36/36 [==============================] - 0s 4ms/step - loss: 2.3008 - accuracy: 0.0949 - val_loss: 2.3095 - val_accuracy: 0.0833\n",
      "Epoch 5/5\n",
      "36/36 [==============================] - 0s 4ms/step - loss: 2.3008 - accuracy: 0.1018 - val_loss: 2.3093 - val_accuracy: 0.1076\n",
      "12/12 [==============================] - 0s 950us/step - loss: 2.3126 - accuracy: 0.0778\n",
      "Loss:     2.31\n",
      "Accuracy: 7.78%\n"
     ]
    }
   ],
   "source": [
    "# Adam optimizer\n",
    "\n",
    "from tensorflow.keras.optimizers import Adam\n",
    "\n",
    "model.compile(\n",
    "    loss='categorical_crossentropy',\n",
    "    optimizer='adam',\n",
    "    metrics=['accuracy']\n",
    ")\n",
    "\n",
    "model.fit(\n",
    "    X_train,\n",
    "    y_train,\n",
    "    epochs=5,\n",
    "    batch_size=32,\n",
    "    validation_split=0.2\n",
    ")\n",
    "\n",
    "loss, accuracy = model.evaluate(X_test, y_test)\n",
    "print(f'Loss:     {loss:.2f}')\n",
    "print(f'Accuracy: {accuracy*100:.2f}%')"
   ]
  },
  {
   "cell_type": "code",
   "execution_count": null,
   "metadata": {},
   "outputs": [
    {
     "name": "stdout",
     "output_type": "stream",
     "text": [
      "Epoch 1/5\n",
      "36/36 [==============================] - 1s 11ms/step - loss: 1.5226 - accuracy: 0.5379 - val_loss: 0.6729 - val_accuracy: 0.7812\n",
      "Epoch 2/5\n",
      "36/36 [==============================] - 0s 4ms/step - loss: 0.3902 - accuracy: 0.8903 - val_loss: 0.3734 - val_accuracy: 0.8889\n",
      "Epoch 3/5\n",
      "36/36 [==============================] - 0s 4ms/step - loss: 0.2236 - accuracy: 0.9417 - val_loss: 0.3196 - val_accuracy: 0.8819\n",
      "Epoch 4/5\n",
      "36/36 [==============================] - 0s 4ms/step - loss: 0.1419 - accuracy: 0.9634 - val_loss: 0.2254 - val_accuracy: 0.9410\n",
      "Epoch 5/5\n",
      "36/36 [==============================] - 0s 5ms/step - loss: 0.0972 - accuracy: 0.9791 - val_loss: 0.2110 - val_accuracy: 0.9236\n",
      "12/12 [==============================] - 0s 2ms/step - loss: 0.1184 - accuracy: 0.9750\n",
      "Loss:     0.12\n",
      "Accuracy: 97.50%\n"
     ]
    }
   ],
   "source": [
    "# Extra hidden layer\n",
    "\n",
    "model_ehl = Sequential()\n",
    "model_ehl.add(Dense(64, activation='relu', input_shape=(64,)))\n",
    "model_ehl.add(Dense(64, activation='relu'))\n",
    "model_ehl.add(Dense(64, activation='relu'))\n",
    "model_ehl.add(Dense(10, activation='softmax'))\n",
    "\n",
    "model_ehl.compile(\n",
    "    loss='categorical_crossentropy',\n",
    "    optimizer='adam',\n",
    "    metrics=['accuracy']\n",
    ")\n",
    "\n",
    "model_ehl.fit(\n",
    "    X_train,\n",
    "    y_train,\n",
    "    epochs=5,\n",
    "    batch_size=32,\n",
    "    validation_split=0.2\n",
    ")\n",
    "\n",
    "loss, accuracy = model_ehl.evaluate(X_test, y_test)\n",
    "print(f'Loss:     {loss:.2f}')\n",
    "print(f'Accuracy: {accuracy*100:.2f}%')\n",
    "\n",
    "# Adding a hideen layer greatly improved model performance"
   ]
  },
  {
   "cell_type": "markdown",
   "metadata": {},
   "source": [
    "### Exercises: Forward Pass and Generalization\n",
    "\n",
    "Let's look in more detail at how the model makes predictions on the test set. We will walk through each step of making predictions, examining exactly what's going on.\n",
    "\n",
    "To start, we will apply our model to the test set, and look at what we get as output:"
   ]
  },
  {
   "cell_type": "code",
   "execution_count": 25,
   "metadata": {},
   "outputs": [
    {
     "data": {
      "text/plain": [
       "<tf.Tensor: shape=(5, 10), dtype=float32, numpy=\n",
       "array([[0.0959264 , 0.10650282, 0.10329029, 0.10403976, 0.08766993,\n",
       "        0.09294099, 0.10618193, 0.10438188, 0.10095455, 0.09811138],\n",
       "       [0.0959264 , 0.10650282, 0.10329029, 0.10403976, 0.08766993,\n",
       "        0.09294099, 0.10618193, 0.10438188, 0.10095455, 0.09811138],\n",
       "       [0.0959264 , 0.10650282, 0.10329029, 0.10403976, 0.08766993,\n",
       "        0.09294099, 0.10618193, 0.10438188, 0.10095455, 0.09811138],\n",
       "       [0.0959264 , 0.10650282, 0.10329029, 0.10403976, 0.08766993,\n",
       "        0.09294099, 0.10618193, 0.10438188, 0.10095455, 0.09811138],\n",
       "       [0.0959264 , 0.10650282, 0.10329029, 0.10403976, 0.08766993,\n",
       "        0.09294099, 0.10618193, 0.10438188, 0.10095455, 0.09811138]],\n",
       "      dtype=float32)>"
      ]
     },
     "execution_count": 25,
     "metadata": {},
     "output_type": "execute_result"
    }
   ],
   "source": [
    "predictions_tf = model(X_test)\n",
    "predictions_tf[:5]"
   ]
  },
  {
   "cell_type": "code",
   "execution_count": 26,
   "metadata": {},
   "outputs": [
    {
     "data": {
      "text/plain": [
       "(tensorflow.python.framework.ops.EagerTensor, TensorShape([360, 10]))"
      ]
     },
     "execution_count": 26,
     "metadata": {},
     "output_type": "execute_result"
    }
   ],
   "source": [
    "type(predictions_tf), predictions_tf.shape"
   ]
  },
  {
   "cell_type": "markdown",
   "metadata": {},
   "source": [
    "The raw output of the model is a tensor of shape `(360, 10)`. This means that we have 360 samples, and for each sample we have 10 values. Each of these values represents the probability that the sample belongs to a given class. This means that we have 10 probabilities for each sample, and the sum of these probabilities is 1. We can confirm this by summing the probabilities for each sample:"
   ]
  },
  {
   "cell_type": "code",
   "execution_count": 27,
   "metadata": {},
   "outputs": [
    {
     "data": {
      "text/plain": [
       "<tf.Tensor: shape=(5,), dtype=float32, numpy=\n",
       "array([0.99999994, 0.99999994, 0.99999994, 0.99999994, 0.99999994],\n",
       "      dtype=float32)>"
      ]
     },
     "execution_count": 27,
     "metadata": {},
     "output_type": "execute_result"
    }
   ],
   "source": [
    "import tensorflow as tf\n",
    "\n",
    "tf.reduce_sum(predictions_tf, axis=1)[:5]"
   ]
  },
  {
   "cell_type": "markdown",
   "metadata": {
    "collapsed": false
   },
   "source": [
    "...okay, there might be a small rounding error here and there. This is to do with how floating point numbers are represented in computers, and it's not something we need to worry about for now."
   ]
  },
  {
   "cell_type": "markdown",
   "metadata": {},
   "source": [
    "We can also extract the label with the highest probability using the tensorflow API:"
   ]
  },
  {
   "cell_type": "code",
   "execution_count": 28,
   "metadata": {},
   "outputs": [
    {
     "data": {
      "text/plain": [
       "<tf.Tensor: shape=(5,), dtype=int64, numpy=array([1, 1, 1, 1, 1], dtype=int64)>"
      ]
     },
     "execution_count": 28,
     "metadata": {},
     "output_type": "execute_result"
    }
   ],
   "source": [
    "predicted_labels_tf = tf.argmax(predictions_tf, axis=1)\n",
    "predicted_labels_tf[:5]"
   ]
  },
  {
   "cell_type": "markdown",
   "metadata": {
    "collapsed": false
   },
   "source": [
    "One helpful aspect of this approach is that we don't just get the prediction, but also a sense of how confident the model is in its prediction. To see this in practice, let's take a look at some of the predictions the model is highly confident about (i.e. a lot of the probability mass is on one class):"
   ]
  },
  {
   "cell_type": "code",
   "execution_count": 29,
   "metadata": {
    "collapsed": false
   },
   "outputs": [
    {
     "data": {
      "image/png": "[encoded data removed]",
      "text/plain": [
       "<Figure size 600x600 with 9 Axes>"
      ]
     },
     "metadata": {},
     "output_type": "display_data"
    }
   ],
   "source": [
    "# Get the values corresponding to the predicted labels for each sample\n",
    "predicted_values_tf = tf.reduce_max(predictions_tf, axis=1)\n",
    "\n",
    "# Get the indices of the samples with the highest predicted values\n",
    "most_confident_indices_tf = tf.argsort(predicted_values_tf, direction='DESCENDING').numpy()[:9]\n",
    "\n",
    "# Get the 9 most confident samples\n",
    "most_confident_samples_tf = X_test[most_confident_indices_tf]\n",
    "\n",
    "# Get the true labels for the 9 most confident samples\n",
    "most_confident_labels_tf = np.argmax(y_test[most_confident_indices_tf], axis=1)\n",
    "\n",
    "# Plot the 9 most confident samples\n",
    "fig, axes = plt.subplots(3, 3, figsize=(6, 6))\n",
    "\n",
    "for i, ax in enumerate(axes.flat):\n",
    "    ax.imshow(most_confident_samples_tf[i].reshape(8, 8), cmap=plt.cm.gray_r, interpolation='nearest')\n",
    "    ax.set_title(f\"{most_confident_labels_tf[i]}\")\n",
    "\n",
    "    # Removing axis labels\n",
    "    ax.set_xticks([])\n",
    "    ax.set_yticks([])\n",
    "    \n",
    "plt.show()"
   ]
  },
  {
   "cell_type": "markdown",
   "metadata": {},
   "source": [
    "## Impact of Initialization\n",
    "\n",
    "Let's study the impact of a bad initialization when training\n",
    "a deep feed forward network.\n",
    "\n",
    "By default, Keras dense layers use the \"Glorot Uniform\" initialization\n",
    "strategy to initialize the weight matrices:\n",
    "\n",
    "- each weight coefficient is randomly sampled from [-scale, scale]\n",
    "- scale is proportional to $\\frac{1}{\\sqrt{n_{in} + n_{out}}}$\n",
    "\n",
    "This strategy is known to work well to initialize deep neural networks\n",
    "with \"tanh\" or \"relu\" activation functions and then trained with\n",
    "standard SGD.\n",
    "\n",
    "To assess the impact of initialization let us plug an alternative init\n",
    "scheme into a 2 hidden layers networks with \"tanh\" activations.\n",
    "For the sake of the example let's use normal distributed weights\n",
    "with a manually adjustable scale (standard deviation) and see the\n",
    "impact the scale value:"
   ]
  },
  {
   "cell_type": "code",
   "execution_count": 30,
   "metadata": {},
   "outputs": [],
   "source": [
    "from tensorflow.keras import initializers\n",
    "from tensorflow.keras import optimizers\n",
    "\n",
    "input_dim = 64\n",
    "hidden_dim = 64\n",
    "output_dim = 10\n",
    "\n",
    "normal_init = initializers.TruncatedNormal(stddev=0.01, seed=42)\n",
    "\n",
    "model = Sequential()\n",
    "model.add(Dense(hidden_dim, input_dim=input_dim, activation=\"tanh\",\n",
    "                kernel_initializer=normal_init))\n",
    "model.add(Dense(hidden_dim, activation=\"tanh\",\n",
    "                kernel_initializer=normal_init))\n",
    "model.add(Dense(output_dim, activation=\"softmax\",\n",
    "                kernel_initializer=normal_init))\n",
    "\n",
    "model.compile(optimizer=optimizers.SGD(learning_rate=0.1),\n",
    "              loss='categorical_crossentropy', metrics=['accuracy'])"
   ]
  },
  {
   "cell_type": "code",
   "execution_count": 31,
   "metadata": {},
   "outputs": [
    {
     "data": {
      "text/plain": [
       "[<keras.layers.core.dense.Dense at 0x25fef195a30>,\n",
       " <keras.layers.core.dense.Dense at 0x25fedd9ba30>,\n",
       " <keras.layers.core.dense.Dense at 0x25fef188160>]"
      ]
     },
     "execution_count": 31,
     "metadata": {},
     "output_type": "execute_result"
    }
   ],
   "source": [
    "model.layers"
   ]
  },
  {
   "cell_type": "markdown",
   "metadata": {},
   "source": [
    "Let's have a look at the parameters of the first layer after initialization but before any training has happened:"
   ]
  },
  {
   "cell_type": "code",
   "execution_count": 32,
   "metadata": {},
   "outputs": [
    {
     "data": {
      "text/plain": [
       "[<tf.Variable 'dense_7/kernel:0' shape=(64, 64) dtype=float32, numpy=\n",
       " array([[ 0.00015817, -0.01590087,  0.00103594, ...,  0.00962818,\n",
       "          0.00624957,  0.00994726],\n",
       "        [ 0.0081879 ,  0.00756818, -0.00668142, ...,  0.01084459,\n",
       "         -0.00317478, -0.00549116],\n",
       "        [-0.00086618, -0.00287623,  0.00391693, ...,  0.00064558,\n",
       "         -0.00420471,  0.00174566],\n",
       "        ...,\n",
       "        [-0.0029006 , -0.0091218 ,  0.00804327, ..., -0.01407086,\n",
       "          0.00952832, -0.01348555],\n",
       "        [ 0.00375078,  0.00967842,  0.00098119, ..., -0.00413454,\n",
       "          0.01695471,  0.00025196],\n",
       "        [ 0.00459809,  0.01223094, -0.00213172, ...,  0.01246831,\n",
       "         -0.00714749, -0.00868595]], dtype=float32)>,\n",
       " <tf.Variable 'dense_7/bias:0' shape=(64,) dtype=float32, numpy=\n",
       " array([0., 0., 0., 0., 0., 0., 0., 0., 0., 0., 0., 0., 0., 0., 0., 0., 0.,\n",
       "        0., 0., 0., 0., 0., 0., 0., 0., 0., 0., 0., 0., 0., 0., 0., 0., 0.,\n",
       "        0., 0., 0., 0., 0., 0., 0., 0., 0., 0., 0., 0., 0., 0., 0., 0., 0.,\n",
       "        0., 0., 0., 0., 0., 0., 0., 0., 0., 0., 0., 0., 0.], dtype=float32)>]"
      ]
     },
     "execution_count": 32,
     "metadata": {},
     "output_type": "execute_result"
    }
   ],
   "source": [
    "model.layers[0].weights"
   ]
  },
  {
   "cell_type": "code",
   "execution_count": 33,
   "metadata": {},
   "outputs": [
    {
     "data": {
      "text/plain": [
       "array([[ 0.00015817, -0.01590087,  0.00103594, ...,  0.00962818,\n",
       "         0.00624957,  0.00994726],\n",
       "       [ 0.0081879 ,  0.00756818, -0.00668142, ...,  0.01084459,\n",
       "        -0.00317478, -0.00549116],\n",
       "       [-0.00086618, -0.00287623,  0.00391693, ...,  0.00064558,\n",
       "        -0.00420471,  0.00174566],\n",
       "       ...,\n",
       "       [-0.0029006 , -0.0091218 ,  0.00804327, ..., -0.01407086,\n",
       "         0.00952832, -0.01348555],\n",
       "       [ 0.00375078,  0.00967842,  0.00098119, ..., -0.00413454,\n",
       "         0.01695471,  0.00025196],\n",
       "       [ 0.00459809,  0.01223094, -0.00213172, ...,  0.01246831,\n",
       "        -0.00714749, -0.00868595]], dtype=float32)"
      ]
     },
     "execution_count": 33,
     "metadata": {},
     "output_type": "execute_result"
    }
   ],
   "source": [
    "w = model.layers[0].weights[0].numpy()\n",
    "w"
   ]
  },
  {
   "cell_type": "code",
   "execution_count": 34,
   "metadata": {},
   "outputs": [
    {
     "data": {
      "text/plain": [
       "0.008835949"
      ]
     },
     "execution_count": 34,
     "metadata": {},
     "output_type": "execute_result"
    }
   ],
   "source": [
    "w.std()"
   ]
  },
  {
   "cell_type": "code",
   "execution_count": 35,
   "metadata": {},
   "outputs": [
    {
     "data": {
      "text/plain": [
       "array([0., 0., 0., 0., 0., 0., 0., 0., 0., 0., 0., 0., 0., 0., 0., 0., 0.,\n",
       "       0., 0., 0., 0., 0., 0., 0., 0., 0., 0., 0., 0., 0., 0., 0., 0., 0.,\n",
       "       0., 0., 0., 0., 0., 0., 0., 0., 0., 0., 0., 0., 0., 0., 0., 0., 0.,\n",
       "       0., 0., 0., 0., 0., 0., 0., 0., 0., 0., 0., 0., 0.], dtype=float32)"
      ]
     },
     "execution_count": 35,
     "metadata": {},
     "output_type": "execute_result"
    }
   ],
   "source": [
    "b = model.layers[0].weights[1].numpy()\n",
    "b"
   ]
  },
  {
   "cell_type": "code",
   "execution_count": 36,
   "metadata": {},
   "outputs": [
    {
     "name": "stdout",
     "output_type": "stream",
     "text": [
      "Epoch 1/15\n",
      "45/45 [==============================] - 1s 2ms/step - loss: 2.2865 - accuracy: 0.2394\n",
      "Epoch 2/15\n",
      "45/45 [==============================] - 0s 2ms/step - loss: 1.7351 - accuracy: 0.4621\n",
      "Epoch 3/15\n",
      "45/45 [==============================] - 0s 2ms/step - loss: 1.0150 - accuracy: 0.7077\n",
      "Epoch 4/15\n",
      "45/45 [==============================] - 0s 2ms/step - loss: 0.5949 - accuracy: 0.8413\n",
      "Epoch 5/15\n",
      "45/45 [==============================] - 0s 2ms/step - loss: 0.3313 - accuracy: 0.9221\n",
      "Epoch 6/15\n",
      "45/45 [==============================] - 0s 2ms/step - loss: 0.2439 - accuracy: 0.9346\n",
      "Epoch 7/15\n",
      "45/45 [==============================] - 0s 2ms/step - loss: 0.1845 - accuracy: 0.9589\n",
      "Epoch 8/15\n",
      "45/45 [==============================] - 0s 2ms/step - loss: 0.1719 - accuracy: 0.9541\n",
      "Epoch 9/15\n",
      "45/45 [==============================] - 0s 2ms/step - loss: 0.1320 - accuracy: 0.9645\n",
      "Epoch 10/15\n",
      "45/45 [==============================] - 0s 2ms/step - loss: 0.1054 - accuracy: 0.9756\n",
      "Epoch 11/15\n",
      "45/45 [==============================] - 0s 2ms/step - loss: 0.0684 - accuracy: 0.9861\n",
      "Epoch 12/15\n",
      "45/45 [==============================] - 0s 2ms/step - loss: 0.0626 - accuracy: 0.9847\n",
      "Epoch 13/15\n",
      "45/45 [==============================] - 0s 2ms/step - loss: 0.0566 - accuracy: 0.9882\n",
      "Epoch 14/15\n",
      "45/45 [==============================] - 0s 2ms/step - loss: 0.0523 - accuracy: 0.9896\n",
      "Epoch 15/15\n",
      "45/45 [==============================] - 0s 2ms/step - loss: 0.0433 - accuracy: 0.9875\n"
     ]
    },
    {
     "data": {
      "image/png": "[encoded data removed]",
      "text/plain": [
       "<Figure size 1200x400 with 1 Axes>"
      ]
     },
     "metadata": {},
     "output_type": "display_data"
    }
   ],
   "source": [
    "history = model.fit(X_train, y_train, epochs=15, batch_size=32)\n",
    "\n",
    "plt.figure(figsize=(12, 4))\n",
    "plt.plot(history.history['loss'], label=\"Truncated Normal init\")\n",
    "plt.legend();"
   ]
  },
  {
   "cell_type": "markdown",
   "metadata": {},
   "source": [
    "Once the model has been fit, the weights have been updated and notably the biases are no longer 0:"
   ]
  },
  {
   "cell_type": "code",
   "execution_count": 37,
   "metadata": {},
   "outputs": [
    {
     "data": {
      "text/plain": [
       "[<tf.Variable 'dense_7/kernel:0' shape=(64, 64) dtype=float32, numpy=\n",
       " array([[ 1.58170762e-04, -1.59008689e-02,  1.03594456e-03, ...,\n",
       "          9.62818228e-03,  6.24957308e-03,  9.94726177e-03],\n",
       "        [ 9.41841304e-03, -9.79049131e-03, -8.18194542e-03, ...,\n",
       "         -9.96558834e-03, -1.56887844e-02, -2.91808136e-02],\n",
       "        [ 3.07289623e-02, -3.73440385e-02, -1.08164355e-01, ...,\n",
       "         -4.77157123e-02, -6.55540228e-02,  8.26388523e-02],\n",
       "        ...,\n",
       "        [ 3.80540155e-02, -2.19999459e-02,  1.51022196e-01, ...,\n",
       "         -8.99813995e-02,  9.78047550e-02, -2.01694891e-01],\n",
       "        [ 3.29776891e-02, -3.16832811e-02,  1.06112249e-01, ...,\n",
       "         -6.46756291e-02,  3.93495709e-02, -1.33480251e-01],\n",
       "        [ 2.99128108e-02, -1.04161715e-02,  5.72426505e-02, ...,\n",
       "          5.56322634e-02,  2.09185965e-02, -6.21885546e-02]], dtype=float32)>,\n",
       " <tf.Variable 'dense_7/bias:0' shape=(64,) dtype=float32, numpy=\n",
       " array([-6.3068513e-04, -1.1987926e-03,  1.2460210e-03, -4.2279350e-04,\n",
       "        -5.4965843e-03, -4.6467743e-04, -1.0515344e-03, -2.2550314e-04,\n",
       "         5.1624858e-04, -1.0298169e-03,  8.5402839e-04,  1.3347639e-03,\n",
       "        -5.2145199e-04,  7.2809961e-04, -2.7385405e-03, -1.2627788e-03,\n",
       "         6.6972137e-03,  1.2050433e-03,  8.5331488e-04, -3.3806504e-03,\n",
       "         3.9064134e-03,  2.4225928e-04,  1.1740904e-03,  3.3005531e-04,\n",
       "         4.0843971e-03, -1.1713878e-03, -1.8044134e-03,  1.3336944e-03,\n",
       "        -6.2150200e-04,  6.8158633e-04,  2.9887613e-03,  4.3127689e-04,\n",
       "         1.0627668e-03,  9.0560812e-04,  1.3240360e-03, -1.2578198e-03,\n",
       "        -9.5810316e-04, -1.9234222e-03, -3.3744259e-03,  2.2119340e-03,\n",
       "         1.2080537e-03, -1.5156226e-03,  1.4205475e-03,  7.7136379e-04,\n",
       "         2.6487666e-03,  2.9017936e-04,  6.3905693e-03,  1.6225547e-03,\n",
       "         1.2096585e-03,  2.1091031e-03, -4.0092668e-03, -3.8209483e-03,\n",
       "        -4.6212510e-03, -1.1483481e-03, -3.3097954e-03,  7.9303660e-05,\n",
       "         2.1176597e-03,  1.3977182e-03,  1.9104598e-03, -1.1621218e-03,\n",
       "        -2.9351571e-04, -4.6263557e-04,  2.3162460e-03,  1.2347741e-03],\n",
       "       dtype=float32)>]"
      ]
     },
     "execution_count": 37,
     "metadata": {},
     "output_type": "execute_result"
    }
   ],
   "source": [
    "model.layers[0].weights"
   ]
  },
  {
   "cell_type": "markdown",
   "metadata": {},
   "source": [
    "#### Questions:\n",
    "\n",
    "- Try the following initialization schemes and see whether\n",
    "  the SGD algorithm can successfully train the network or\n",
    "  not:\n",
    "  \n",
    "  - a very small e.g. `stddev=1e-3`\n",
    "  - a larger scale e.g. `stddev=1` or `10`\n",
    "  - initialize all weights to 0 (constant initialization)\n",
    "  \n",
    "- What do you observe? Can you find an explanation for those\n",
    "  outcomes?\n",
    "\n",
    "- Are more advanced solvers such as SGD with momentum or Adam able\n",
    "  to deal better with such bad initializations?"
   ]
  },
  {
   "cell_type": "code",
   "execution_count": 38,
   "metadata": {},
   "outputs": [
    {
     "name": "stdout",
     "output_type": "stream",
     "text": [
      "Epoch 1/15\n",
      "45/45 [==============================] - 1s 2ms/step - loss: 2.3037 - accuracy: 0.0863\n",
      "Epoch 2/15\n",
      "45/45 [==============================] - 0s 2ms/step - loss: 2.3035 - accuracy: 0.1051\n",
      "Epoch 3/15\n",
      "45/45 [==============================] - 0s 3ms/step - loss: 2.3032 - accuracy: 0.0932\n",
      "Epoch 4/15\n",
      "45/45 [==============================] - 0s 2ms/step - loss: 2.3032 - accuracy: 0.1023\n",
      "Epoch 5/15\n",
      "45/45 [==============================] - 0s 2ms/step - loss: 2.3032 - accuracy: 0.1072\n",
      "Epoch 6/15\n",
      "45/45 [==============================] - 0s 3ms/step - loss: 2.3030 - accuracy: 0.0932\n",
      "Epoch 7/15\n",
      "45/45 [==============================] - 0s 2ms/step - loss: 2.3031 - accuracy: 0.1044\n",
      "Epoch 8/15\n",
      "45/45 [==============================] - 0s 2ms/step - loss: 2.3029 - accuracy: 0.1072\n",
      "Epoch 9/15\n",
      "45/45 [==============================] - 0s 2ms/step - loss: 2.3016 - accuracy: 0.1072\n",
      "Epoch 10/15\n",
      "45/45 [==============================] - 0s 2ms/step - loss: 2.1247 - accuracy: 0.1761\n",
      "Epoch 11/15\n",
      "45/45 [==============================] - 0s 2ms/step - loss: 1.7949 - accuracy: 0.1942\n",
      "Epoch 12/15\n",
      "45/45 [==============================] - 0s 2ms/step - loss: 1.6098 - accuracy: 0.2630\n",
      "Epoch 13/15\n",
      "45/45 [==============================] - 0s 2ms/step - loss: 1.4206 - accuracy: 0.3493\n",
      "Epoch 14/15\n",
      "45/45 [==============================] - 0s 2ms/step - loss: 1.2241 - accuracy: 0.4983\n",
      "Epoch 15/15\n",
      "45/45 [==============================] - 0s 2ms/step - loss: 0.9582 - accuracy: 0.6555\n"
     ]
    },
    {
     "data": {
      "image/png": "[encoded data removed]",
      "text/plain": [
       "<Figure size 1200x400 with 1 Axes>"
      ]
     },
     "metadata": {},
     "output_type": "display_data"
    }
   ],
   "source": [
    "# Very small init scheme\n",
    "\n",
    "small_init = initializers.TruncatedNormal(stddev=1e-3, seed=42)\n",
    "\n",
    "model_small_init = Sequential()\n",
    "model_small_init.add(Dense(hidden_dim, input_dim=input_dim, activation=\"tanh\",\n",
    "                kernel_initializer=small_init))\n",
    "model_small_init.add(Dense(hidden_dim, activation=\"tanh\",\n",
    "                kernel_initializer=small_init))\n",
    "model_small_init.add(Dense(output_dim, activation=\"softmax\",\n",
    "                kernel_initializer=small_init))\n",
    "\n",
    "model_small_init.compile(optimizer=optimizers.SGD(learning_rate=0.1),\n",
    "              loss='categorical_crossentropy', metrics=['accuracy'])\n",
    "\n",
    "history_small_init = model_small_init.fit(X_train, y_train, epochs=15, batch_size=32)\n",
    "\n",
    "plt.figure(figsize=(12, 4))\n",
    "plt.plot(history_small_init.history['loss'], label=\"Truncated Small init\")\n",
    "plt.legend();\n",
    "\n",
    "# It appears that loss is decreasing and accuracy is increasing, just very very slowly. It seems like the algorithm can successfully train the network,\n",
    "# it will just take a long time\n"
   ]
  },
  {
   "cell_type": "code",
   "execution_count": null,
   "metadata": {},
   "outputs": [
    {
     "name": "stdout",
     "output_type": "stream",
     "text": [
      "Epoch 1/15\n",
      "45/45 [==============================] - 1s 2ms/step - loss: 95.9539 - accuracy: 0.0912\n",
      "Epoch 2/15\n",
      "45/45 [==============================] - 0s 2ms/step - loss: 71.9359 - accuracy: 0.0946\n",
      "Epoch 3/15\n",
      "45/45 [==============================] - 0s 2ms/step - loss: 47.2786 - accuracy: 0.1559\n",
      "Epoch 4/15\n",
      "45/45 [==============================] - 0s 2ms/step - loss: 33.6789 - accuracy: 0.2067\n",
      "Epoch 5/15\n",
      "45/45 [==============================] - 0s 2ms/step - loss: 24.9977 - accuracy: 0.1969\n",
      "Epoch 6/15\n",
      "45/45 [==============================] - 0s 1ms/step - loss: 17.9071 - accuracy: 0.1858\n",
      "Epoch 7/15\n",
      "45/45 [==============================] - 0s 2ms/step - loss: 12.8668 - accuracy: 0.1935\n",
      "Epoch 8/15\n",
      "45/45 [==============================] - 0s 2ms/step - loss: 11.1631 - accuracy: 0.1788\n",
      "Epoch 9/15\n",
      "45/45 [==============================] - 0s 2ms/step - loss: 9.2778 - accuracy: 0.1705\n",
      "Epoch 10/15\n",
      "45/45 [==============================] - 0s 2ms/step - loss: 8.2178 - accuracy: 0.1538\n",
      "Epoch 11/15\n",
      "45/45 [==============================] - 0s 2ms/step - loss: 8.0670 - accuracy: 0.1698\n",
      "Epoch 12/15\n",
      "45/45 [==============================] - 0s 2ms/step - loss: 7.5429 - accuracy: 0.1580\n",
      "Epoch 13/15\n",
      "45/45 [==============================] - 0s 2ms/step - loss: 6.6192 - accuracy: 0.1503\n",
      "Epoch 14/15\n",
      "45/45 [==============================] - 0s 2ms/step - loss: 6.2738 - accuracy: 0.1663\n",
      "Epoch 15/15\n",
      "45/45 [==============================] - 0s 2ms/step - loss: 5.7047 - accuracy: 0.1761\n"
     ]
    },
    {
     "data": {
      "image/png": "[encoded data removed]",
      "text/plain": [
       "<Figure size 1200x400 with 1 Axes>"
      ]
     },
     "metadata": {},
     "output_type": "display_data"
    }
   ],
   "source": [
    "# Very large init scheme\n",
    "\n",
    "large_init = initializers.TruncatedNormal(stddev=10, seed=42)\n",
    "\n",
    "model_large_init = Sequential()\n",
    "model_large_init.add(Dense(hidden_dim, input_dim=input_dim, activation=\"tanh\",\n",
    "                kernel_initializer=large_init))\n",
    "model_large_init.add(Dense(hidden_dim, activation=\"tanh\",\n",
    "                kernel_initializer=large_init))\n",
    "model_large_init.add(Dense(output_dim, activation=\"softmax\",\n",
    "                kernel_initializer=large_init))\n",
    "\n",
    "model_large_init.compile(optimizer=optimizers.SGD(learning_rate=0.1),\n",
    "              loss='categorical_crossentropy', metrics=['accuracy'])\n",
    "\n",
    "history_large_init = model_large_init.fit(X_train, y_train, epochs=15, batch_size=32)\n",
    "\n",
    "plt.figure(figsize=(12, 4))\n",
    "plt.plot(history_large_init.history['loss'], label=\"Truncated large init\")\n",
    "plt.legend();\n",
    "\n",
    "# Having a large init produces similar results to a normal init in terms of loss, but accuracy is very very slowly increasing. The model can be trained, it will just take a while"
   ]
  },
  {
   "cell_type": "code",
   "execution_count": 40,
   "metadata": {},
   "outputs": [
    {
     "name": "stdout",
     "output_type": "stream",
     "text": [
      "Epoch 1/15\n",
      "45/45 [==============================] - 1s 3ms/step - loss: 2.3038 - accuracy: 0.0926\n",
      "Epoch 2/15\n",
      "45/45 [==============================] - 0s 2ms/step - loss: 2.3034 - accuracy: 0.1072\n",
      "Epoch 3/15\n",
      "45/45 [==============================] - 0s 2ms/step - loss: 2.3032 - accuracy: 0.0884\n",
      "Epoch 4/15\n",
      "45/45 [==============================] - 0s 2ms/step - loss: 2.3032 - accuracy: 0.1065\n",
      "Epoch 5/15\n",
      "45/45 [==============================] - 0s 2ms/step - loss: 2.3032 - accuracy: 0.1072\n",
      "Epoch 6/15\n",
      "45/45 [==============================] - 0s 2ms/step - loss: 2.3032 - accuracy: 0.1072\n",
      "Epoch 7/15\n",
      "45/45 [==============================] - 0s 2ms/step - loss: 2.3033 - accuracy: 0.1016\n",
      "Epoch 8/15\n",
      "45/45 [==============================] - 0s 2ms/step - loss: 2.3031 - accuracy: 0.1016\n",
      "Epoch 9/15\n",
      "45/45 [==============================] - 0s 2ms/step - loss: 2.3032 - accuracy: 0.1072\n",
      "Epoch 10/15\n",
      "45/45 [==============================] - 0s 2ms/step - loss: 2.3031 - accuracy: 0.1072\n",
      "Epoch 11/15\n",
      "45/45 [==============================] - 0s 2ms/step - loss: 2.3031 - accuracy: 0.1072\n",
      "Epoch 12/15\n",
      "45/45 [==============================] - 0s 2ms/step - loss: 2.3031 - accuracy: 0.1058\n",
      "Epoch 13/15\n",
      "45/45 [==============================] - 0s 2ms/step - loss: 2.3032 - accuracy: 0.1058\n",
      "Epoch 14/15\n",
      "45/45 [==============================] - 0s 2ms/step - loss: 2.3031 - accuracy: 0.1051\n",
      "Epoch 15/15\n",
      "45/45 [==============================] - 0s 2ms/step - loss: 2.3032 - accuracy: 0.1030\n"
     ]
    },
    {
     "data": {
      "image/png": "[encoded data removed]",
      "text/plain": [
       "<Figure size 1200x400 with 1 Axes>"
      ]
     },
     "metadata": {},
     "output_type": "display_data"
    }
   ],
   "source": [
    "# Initialize all weights to 0\n",
    "\n",
    "zero_init = initializers.zeros()\n",
    "\n",
    "model_zero_init = Sequential()\n",
    "model_zero_init.add(Dense(hidden_dim, input_dim=input_dim, activation=\"tanh\",\n",
    "                kernel_initializer=zero_init))\n",
    "model_zero_init.add(Dense(hidden_dim, activation=\"tanh\",\n",
    "                kernel_initializer=zero_init))\n",
    "model_zero_init.add(Dense(output_dim, activation=\"softmax\",\n",
    "                kernel_initializer=zero_init))\n",
    "\n",
    "model_zero_init.compile(optimizer=optimizers.SGD(learning_rate=0.1),\n",
    "              loss='categorical_crossentropy', metrics=['accuracy'])\n",
    "\n",
    "history_zero_init = model_zero_init.fit(X_train, y_train, epochs=15, batch_size=32)\n",
    "\n",
    "plt.figure(figsize=(12, 4))\n",
    "plt.plot(history_zero_init.history['loss'], label=\"Truncated large init\")\n",
    "plt.legend();\n",
    "\n",
    "# The optimizer cannot train the network when we initialize all weights to 0 as we can see the loss and accuracy fluctuating and not steadily increasing or decreasing."
   ]
  }
 ],
 "metadata": {
  "file_extension": ".py",
  "kernelspec": {
   "display_name": "dsi_participant",
   "language": "python",
   "name": "python3"
  },
  "language_info": {
   "codemirror_mode": {
    "name": "ipython",
    "version": 3
   },
   "file_extension": ".py",
   "mimetype": "text/x-python",
   "name": "python",
   "nbconvert_exporter": "python",
   "pygments_lexer": "ipython3",
   "version": "3.9.15"
  },
  "mimetype": "text/x-python",
  "name": "python",
  "npconvert_exporter": "python",
  "pygments_lexer": "ipython3",
  "toc": {
   "base_numbering": 1,
   "nav_menu": {},
   "number_sections": true,
   "sideBar": true,
   "skip_h1_title": false,
   "title_cell": "Table of Contents",
   "title_sidebar": "Contents",
   "toc_cell": false,
   "toc_position": {},
   "toc_section_display": true,
   "toc_window_display": false
  },
  "version": 3
 },
 "nbformat": 4,
 "nbformat_minor": 4
}
